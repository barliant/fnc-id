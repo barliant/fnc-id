{
 "cells": [
  {
   "cell_type": "markdown",
   "metadata": {},
   "source": [
    "# doc2vec on corpus\n",
    "\n",
    "Kita coba analisis \"ciri-ciri\" dokumen hoax yang membedakan dengan dokumen fakta sebetulnya apa. Hipotesisnya dengan ```doc2vec``` dapat diekstrak fitur penciri (_differentiating features_) dari dokumen hoax.\n"
   ]
  },
  {
   "cell_type": "code",
   "execution_count": 94,
   "metadata": {
    "collapsed": true
   },
   "outputs": [],
   "source": [
    "import pandas as pd"
   ]
  },
  {
   "cell_type": "markdown",
   "metadata": {},
   "source": [
    "Sebelumnya corpus yang sudah terkumpul dipisahkan secara manual ke dua file csv terpisah, ```hoax.csv``` dan ```facts.csv```. Kali ini dicoba untuk membaca semua corpus secara terpadu dari satu file csv yang memuat dua kelompok dokumen hoax dan facts.\n"
   ]
  },
  {
   "cell_type": "code",
   "execution_count": 95,
   "metadata": {},
   "outputs": [
    {
     "data": {
      "text/html": [
       "<div>\n",
       "<style scoped>\n",
       "    .dataframe tbody tr th:only-of-type {\n",
       "        vertical-align: middle;\n",
       "    }\n",
       "\n",
       "    .dataframe tbody tr th {\n",
       "        vertical-align: top;\n",
       "    }\n",
       "\n",
       "    .dataframe thead th {\n",
       "        text-align: right;\n",
       "    }\n",
       "</style>\n",
       "<table border=\"1\" class=\"dataframe\">\n",
       "  <thead>\n",
       "    <tr style=\"text-align: right;\">\n",
       "      <th></th>\n",
       "      <th>Judul</th>\n",
       "      <th>Isi</th>\n",
       "      <th>Label</th>\n",
       "    </tr>\n",
       "  </thead>\n",
       "  <tbody>\n",
       "    <tr>\n",
       "      <th>0</th>\n",
       "      <td>Kabar Warga Bantaran Citarum Diminta Waspadai ...</td>\n",
       "      <td>Di tengah pemberitaan banjir di Pagarsih Bandu...</td>\n",
       "      <td>fact</td>\n",
       "    </tr>\n",
       "    <tr>\n",
       "      <th>1</th>\n",
       "      <td>Pesan Bijak Bintang Iklan Rokok Sebelum Mening...</td>\n",
       "      <td>Foto Wayne McLaren, seorang mantan bintang ikl...</td>\n",
       "      <td>fact</td>\n",
       "    </tr>\n",
       "    <tr>\n",
       "      <th>2</th>\n",
       "      <td>Anggota Parlemen Ukraina Dilemparkan ke Bak Sa...</td>\n",
       "      <td>\"Di Ukraina Jika Anggota DPR Ga Becus Langsung...</td>\n",
       "      <td>fact</td>\n",
       "    </tr>\n",
       "    <tr>\n",
       "      <th>3</th>\n",
       "      <td>Ubah HGB Jadi SHM di BPN Depok Cuma Bayar Rp 5...</td>\n",
       "      <td>Beredar pesan berantai yang berisi informasi t...</td>\n",
       "      <td>fact</td>\n",
       "    </tr>\n",
       "    <tr>\n",
       "      <th>4</th>\n",
       "      <td>Kartu 'Bebas Masalah' Khusus Untuk Bule di Bali</td>\n",
       "      <td>Pesan berantai beredar melalui media sosial te...</td>\n",
       "      <td>fact</td>\n",
       "    </tr>\n",
       "  </tbody>\n",
       "</table>\n",
       "</div>"
      ],
      "text/plain": [
       "                                               Judul  \\\n",
       "0  Kabar Warga Bantaran Citarum Diminta Waspadai ...   \n",
       "1  Pesan Bijak Bintang Iklan Rokok Sebelum Mening...   \n",
       "2  Anggota Parlemen Ukraina Dilemparkan ke Bak Sa...   \n",
       "3  Ubah HGB Jadi SHM di BPN Depok Cuma Bayar Rp 5...   \n",
       "4    Kartu 'Bebas Masalah' Khusus Untuk Bule di Bali   \n",
       "\n",
       "                                                 Isi Label  \n",
       "0  Di tengah pemberitaan banjir di Pagarsih Bandu...  fact  \n",
       "1  Foto Wayne McLaren, seorang mantan bintang ikl...  fact  \n",
       "2  \"Di Ukraina Jika Anggota DPR Ga Becus Langsung...  fact  \n",
       "3  Beredar pesan berantai yang berisi informasi t...  fact  \n",
       "4  Pesan berantai beredar melalui media sosial te...  fact  "
      ]
     },
     "execution_count": 95,
     "metadata": {},
     "output_type": "execute_result"
    }
   ],
   "source": [
    "#fakta = pd.read_csv('hoax.csv')\n",
    "#fakta.head()\n",
    "corpus = pd.read_csv('corpus.csv')\n",
    "corpus.head()\n"
   ]
  },
  {
   "cell_type": "code",
   "execution_count": 96,
   "metadata": {},
   "outputs": [
    {
     "data": {
      "text/html": [
       "<div>\n",
       "<style scoped>\n",
       "    .dataframe tbody tr th:only-of-type {\n",
       "        vertical-align: middle;\n",
       "    }\n",
       "\n",
       "    .dataframe tbody tr th {\n",
       "        vertical-align: top;\n",
       "    }\n",
       "\n",
       "    .dataframe thead th {\n",
       "        text-align: right;\n",
       "    }\n",
       "</style>\n",
       "<table border=\"1\" class=\"dataframe\">\n",
       "  <thead>\n",
       "    <tr style=\"text-align: right;\">\n",
       "      <th></th>\n",
       "      <th>Judul</th>\n",
       "      <th>Isi</th>\n",
       "    </tr>\n",
       "  </thead>\n",
       "  <tbody>\n",
       "    <tr>\n",
       "      <th>64</th>\n",
       "      <td>PNS Bantul Ditangkap Terkait Sindikat Saracen</td>\n",
       "      <td>Terungkapnya jaringan Saracen menjadi pemberit...</td>\n",
       "    </tr>\n",
       "    <tr>\n",
       "      <th>65</th>\n",
       "      <td>Kabar Singapore Airlines Terbakar di Changi</td>\n",
       "      <td>Isu ini dihembuskan pertama kali oleh pemilik ...</td>\n",
       "    </tr>\n",
       "    <tr>\n",
       "      <th>66</th>\n",
       "      <td>Kabut di Yogya Imbas Aktivitas Merapi</td>\n",
       "      <td>Pesan berantai di media sosial dan grup komuni...</td>\n",
       "    </tr>\n",
       "    <tr>\n",
       "      <th>67</th>\n",
       "      <td>Heboh Suhu Panas Ekstrem di Kuwait Bikin Pohon...</td>\n",
       "      <td>Dalam sepekan terakhir, beredar foto dan video...</td>\n",
       "    </tr>\n",
       "    <tr>\n",
       "      <th>68</th>\n",
       "      <td>Beredar Foto Jarum Suntik 'Penular' HIV-AIDS d...</td>\n",
       "      <td>\"Hati-hati mengambil tisu di toilet umum! Tolo...</td>\n",
       "    </tr>\n",
       "  </tbody>\n",
       "</table>\n",
       "</div>"
      ],
      "text/plain": [
       "                                                Judul  \\\n",
       "64      PNS Bantul Ditangkap Terkait Sindikat Saracen   \n",
       "65        Kabar Singapore Airlines Terbakar di Changi   \n",
       "66              Kabut di Yogya Imbas Aktivitas Merapi   \n",
       "67  Heboh Suhu Panas Ekstrem di Kuwait Bikin Pohon...   \n",
       "68  Beredar Foto Jarum Suntik 'Penular' HIV-AIDS d...   \n",
       "\n",
       "                                                  Isi  \n",
       "64  Terungkapnya jaringan Saracen menjadi pemberit...  \n",
       "65  Isu ini dihembuskan pertama kali oleh pemilik ...  \n",
       "66  Pesan berantai di media sosial dan grup komuni...  \n",
       "67  Dalam sepekan terakhir, beredar foto dan video...  \n",
       "68  \"Hati-hati mengambil tisu di toilet umum! Tolo...  "
      ]
     },
     "execution_count": 96,
     "metadata": {},
     "output_type": "execute_result"
    }
   ],
   "source": [
    "'''\n",
    "dataframe[dataframe.column == value] will filter a dataframe based on row that fulfill criteria\n",
    "dataframe.iloc[row_start:row_end, col_start:col_end] filters a dataframe using slicing method\n",
    "'''\n",
    "corpus_hoax = corpus[corpus.Label == 'hoax'].iloc[:, 0:2]\n",
    "corpus_facts = corpus[corpus.Label == 'fact'].iloc[:, 0:2]\n",
    "corpus_hoax.head()\n"
   ]
  },
  {
   "cell_type": "code",
   "execution_count": 97,
   "metadata": {},
   "outputs": [
    {
     "data": {
      "text/plain": [
       "(55, 2)"
      ]
     },
     "execution_count": 97,
     "metadata": {},
     "output_type": "execute_result"
    }
   ],
   "source": [
    "corpus_hoax.shape\n"
   ]
  },
  {
   "cell_type": "code",
   "execution_count": 98,
   "metadata": {},
   "outputs": [
    {
     "data": {
      "text/plain": [
       "(64, 2)"
      ]
     },
     "execution_count": 98,
     "metadata": {},
     "output_type": "execute_result"
    }
   ],
   "source": [
    "corpus_facts.shape\n"
   ]
  },
  {
   "cell_type": "code",
   "execution_count": 99,
   "metadata": {},
   "outputs": [
    {
     "name": "stdout",
     "output_type": "stream",
     "text": [
      "Judul        PNS Bantul Ditangkap Terkait Sindikat Saracen\n",
      "Isi      Terungkapnya jaringan Saracen menjadi pemberit...\n",
      "Name: 64, dtype: object\n",
      "Judul          Kabar Singapore Airlines Terbakar di Changi\n",
      "Isi      Isu ini dihembuskan pertama kali oleh pemilik ...\n",
      "Name: 65, dtype: object\n",
      "Judul                Kabut di Yogya Imbas Aktivitas Merapi\n",
      "Isi      Pesan berantai di media sosial dan grup komuni...\n",
      "Name: 66, dtype: object\n",
      "Judul    Heboh Suhu Panas Ekstrem di Kuwait Bikin Pohon...\n",
      "Isi      Dalam sepekan terakhir, beredar foto dan video...\n",
      "Name: 67, dtype: object\n",
      "Judul    Beredar Foto Jarum Suntik 'Penular' HIV-AIDS d...\n",
      "Isi      \"Hati-hati mengambil tisu di toilet umum! Tolo...\n",
      "Name: 68, dtype: object\n",
      "Judul    Makan Cokelat Setelah Makan Mi Goreng Bisa Bik...\n",
      "Isi      Ada seorang wanita meninggal mendadak dengan k...\n",
      "Name: 69, dtype: object\n",
      "Judul    Geger Motor 'Hantu' Terparkir 2 Tahun di Jalan...\n",
      "Isi      Kabar ini berawal dari postingan pengguna Face...\n",
      "Name: 70, dtype: object\n",
      "Judul    Wajib Bawa Obat Isosorbide Dinitrate Untuk 'Ja...\n",
      "Isi      Info dari teman. Teman komunitas saya baru ken...\n",
      "Name: 71, dtype: object\n",
      "Judul    Pesan Berantai Kecelakaan Tewaskan 130 Jemaah ...\n",
      "Isi      Sebuah pesan berantai beredar di WhatsApp grup...\n",
      "Name: 72, dtype: object\n",
      "Judul    Broadcast Telur Berbintik Mengandung Bakteri P...\n",
      "Isi      Dilaporkan sejumlah warga, sejak sepekan lalu ...\n",
      "Name: 73, dtype: object\n",
      "Judul    Ojek Online dan Angkot di Bandung akan Bentrok...\n",
      "Isi      Muncul pesan berantai yang berisi informasi ak...\n",
      "Name: 74, dtype: object\n",
      "Judul    Mobil Milik Pria yang Berkelahi dengan TNI Ter...\n",
      "Isi      Laporan Kebakaran Mobil. Pada hari Sabtu tgl 1...\n",
      "Name: 75, dtype: object\n",
      "Judul    Ada Broadcast Bom Meledak di Masjidil Haram, S...\n",
      "Isi      Sebuah pesan berantai beredar di aplikasi pesa...\n",
      "Name: 76, dtype: object\n",
      "Judul    Ramai Broadcast Tawuran 2 Kelompok di Cililita...\n",
      "Isi      Broadcast tersebut menyebut tawuran yang terja...\n",
      "Name: 77, dtype: object\n",
      "Judul    Beredar Broadcast CCTV di Jaksel Bisa Jadi Das...\n",
      "Isi      Broadcast itu menyebutkan, ada empat titik di ...\n",
      "Name: 78, dtype: object\n",
      "Judul    Ada Broadcast Tilang E-CCTV akan Diterapkan di...\n",
      "Isi      Sebuah pesan berisi peringatan kepada pengguna...\n",
      "Name: 79, dtype: object\n",
      "Judul    Beredar Kabar Bendungan Katulampa Jebol, BPBD ...\n",
      "Isi      Beredar video di sosial media Twitter yang men...\n",
      "Name: 80, dtype: object\n",
      "Judul    Heboh Kabar Makam Berdarah di Balikpapan, Ini ...\n",
      "Isi      Sebuah makam di Tempat Pemakaman Umum (TPU) Bu...\n",
      "Name: 81, dtype: object\n",
      "Judul    Ramai Bocah Sebatang Kara Huni Gubuk Reyot di ...\n",
      "Isi      Sejak awal Juli, warganet dibuat iba oleh ceri...\n",
      "Name: 82, dtype: object\n",
      "Judul    Tentang Postingan di Medsos PT DI Dijual ke China\n",
      "Isi      Beredar broadcast di Facebook, Twitter, dan gr...\n",
      "Name: 83, dtype: object\n",
      "Judul    Broadcast Hoax Polisi Minta Karangan Bunga Dik...\n",
      "Isi      Pesan itu tersebar di beberapa waktu terakhir....\n",
      "Name: 84, dtype: object\n",
      "Judul       Penampakan Awan Berbentuk Naga di Langit Ciawi\n",
      "Isi      Pada Jumat, 21 Desember 2012, Detikcom menurun...\n",
      "Name: 85, dtype: object\n",
      "Judul         Bahaya Menempel Pleste Penurun Panas di Dahi\n",
      "Isi      Kalau anak demam, JANGAN tampal Cool Fever di ...\n",
      "Name: 86, dtype: object\n",
      "Judul    Bila Terus Ikut Campur, Israel Berjanji Akan B...\n",
      "Isi      Maidany.com – Peristiwa penyerangan Israel ter...\n",
      "Name: 87, dtype: object\n",
      "Judul                              Pendaftaran Driver Grab\n",
      "Isi      Pendaftaran GRATIS !!! Open Recruitment Grab, ...\n",
      "Name: 88, dtype: object\n",
      "Judul                            Virus Video Gempa Bangkok\n",
      "Isi      Perhatian… Perlu diketahui, baru menerima pesa...\n",
      "Name: 89, dtype: object\n",
      "Judul    Sri Sultan Hamengkubuwono : Maaf Bukan SARA, T...\n",
      "Isi      Raja Keraton Ngayogyakarta yang juga Gubernur ...\n",
      "Name: 90, dtype: object\n",
      "Judul                                 Bentrok FBR VS AMBON\n",
      "Isi      Kepada teman2.hindari.jalan raya bogor arah.ci...\n",
      "Name: 91, dtype: object\n",
      "Judul                       Permen Susu Mengandung Narkoba\n",
      "Isi      Mohon perhatian utk stakeholder terkait, terii...\n",
      "Name: 92, dtype: object\n",
      "Judul                            Gempa Gerhana Iran Dajjal\n",
      "Isi      Ass.. Wr.. wb? Baru dpt info, ma'af klo tlat n...\n",
      "Name: 93, dtype: object\n",
      "Judul                                            Upin Ipin\n",
      "Isi      SUBHANALLAH UPIN DAN IPIN.Tahukah anda Sebenar...\n",
      "Name: 94, dtype: object\n",
      "Judul                          Broadcast Wanita Bunuh Diri\n",
      "Isi      Gak baca d'rasukin !D! SMP MUHAMMASIYAH  tpatn...\n",
      "Name: 95, dtype: object\n",
      "Judul                                  Broadcast Nenek Ani\n",
      "Isi      Sorry ya Bm takut beneran, hehe. Nama saya Ani...\n",
      "Name: 96, dtype: object\n",
      "Judul                             Broadcast BBM versi baru\n",
      "Isi      200136658003199 kode untuk blackBerry kirim ko...\n",
      "Name: 97, dtype: object\n",
      "Judul            Broadcast didatengin malaikat waktu subuh\n",
      "Isi      Friends, kalian percaya tdk Subuh bsk akan ada...\n",
      "Name: 98, dtype: object\n",
      "Judul                          Broadcast Whatsapp berbayar\n",
      "Isi      Mulai Hari Senin besok WhatSapp akan dikenakan...\n",
      "Name: 99, dtype: object\n",
      "Judul    Broadcast WhatsApp hingga Facebook Bakal Dipantau\n",
      "Isi      Mulai besok dan seterusnya ada peraturan komun...\n",
      "Name: 100, dtype: object\n",
      "Judul             Ancaman Pemblokiran BlackBerry Messenger\n",
      "Isi      Kami dari pihak Blackberry Offical ingin membe...\n",
      "Name: 101, dtype: object\n",
      "Judul                              Server Blackberry Penuh\n",
      "Isi      Blackberry menginformasikan semua pengguna kam...\n",
      "Name: 102, dtype: object\n",
      "Judul                         Kecelakaan Beruntun Semarang\n",
      "Isi      Bus Nugroho Rem blong dari arah Jl. Wahidin (t...\n",
      "Name: 103, dtype: object\n",
      "Judul                                Peruntungan Suku Maya\n",
      "Isi      Tahun ini di Bulan Juli ada 5x senin, 5x selas...\n",
      "Name: 104, dtype: object\n",
      "Judul    Broadcast Cabai Kering Penuh Tikus Penyebab Di...\n",
      "Isi      SEBARKAN!!!!!! Hati2 jangan jajan yang pakai c...\n",
      "Name: 105, dtype: object\n",
      "Judul                       Ulat Mematikan di Pohon Mangga\n",
      "Isi      Sekedar informasi, ini adalah binatang yang la...\n",
      "Name: 106, dtype: object\n",
      "Judul    Daging Manusia ditemukan di pabrik daging McDo...\n",
      "Isi      Celaka yahudi zionis. Daging orang islam di Pa...\n",
      "Name: 107, dtype: object\n",
      "Judul                      Daging Manusia dalam McDonald? \n",
      "Isi       Bagi pecinta kuliner, terutama makanan cepat ...\n",
      "Name: 108, dtype: object\n",
      "Judul            Sakit Jantung Gara-gara Tak Kencing Malam\n",
      "Isi      JANGAN MALAS UNTUK KENCING MALAM AGAR TIDAK MA...\n",
      "Name: 109, dtype: object\n",
      "Judul                             Isu Gempa Susulan 7,5 SR\n",
      "Isi      Diharap keluar rumah nanti malam pukul 22.30-2...\n",
      "Name: 110, dtype: object\n",
      "Judul                        Broadcast Gempa Susulan 7,4SR\n",
      "Isi      Peringatan gempa susulan yg akan terjadi nanti...\n",
      "Name: 111, dtype: object\n",
      "Judul    Broadcast Screenshot pesan whatsapp bisa ketah...\n",
      "Isi      Setelah beberapa tahun, kami akhirnya mencapai...\n",
      "Name: 112, dtype: object\n",
      "Judul    Mobil Milik Pria yang Berkelahi dengan TNI Ter...\n",
      "Isi      Laporan Kebakaran Mobil. Pada hari Sabtu tgl 1...\n",
      "Name: 113, dtype: object\n",
      "Judul     Heboh Kabar Mayat Menangis dalam Kubur di Kalsel\n",
      "Isi      Seseorang yang telah meninggal dan sudah dimak...\n",
      "Name: 114, dtype: object\n",
      "Judul    Istana Tepis Rilis Pers Palsu soal Sri Mulyani...\n",
      "Isi      Sri Mulyani adalah antek Kapitalisme mengemas ...\n",
      "Name: 115, dtype: object\n",
      "Judul    Beredar Broadcast Catut Polisi soal 'Kiai Sasa...\n",
      "Isi      WASPADA!!! Data dari polsek cisaat yg menjadi ...\n",
      "Name: 116, dtype: object\n",
      "Judul                Broadcast Razia STNK dari Mabes Polri\n",
      "Isi      Razia STNK. Dimulai Besok pagi. 11/01/2018. Pe...\n",
      "Name: 117, dtype: object\n",
      "Judul        Broadcast Badan Siber Rekam Telepon-Pantau WA\n",
      "Isi      INFO TERKINI: ✅Mulai besok dan seterusnya ada ...\n",
      "Name: 118, dtype: object\n"
     ]
    }
   ],
   "source": [
    "for isi in corpus_hoax.iterrows():\n",
    "    print(isi[1])\n",
    "    "
   ]
  },
  {
   "cell_type": "code",
   "execution_count": null,
   "metadata": {
    "collapsed": true
   },
   "outputs": [],
   "source": []
  },
  {
   "cell_type": "code",
   "execution_count": null,
   "metadata": {},
   "outputs": [],
   "source": []
  },
  {
   "cell_type": "code",
   "execution_count": null,
   "metadata": {},
   "outputs": [],
   "source": []
  },
  {
   "cell_type": "code",
   "execution_count": null,
   "metadata": {},
   "outputs": [],
   "source": []
  },
  {
   "cell_type": "code",
   "execution_count": null,
   "metadata": {},
   "outputs": [],
   "source": []
  },
  {
   "cell_type": "code",
   "execution_count": null,
   "metadata": {
    "collapsed": true
   },
   "outputs": [],
   "source": []
  }
 ],
 "metadata": {
  "kernelspec": {
   "display_name": "Python 3",
   "language": "python",
   "name": "python3"
  },
  "language_info": {
   "codemirror_mode": {
    "name": "ipython",
    "version": 3
   },
   "file_extension": ".py",
   "mimetype": "text/x-python",
   "name": "python",
   "nbconvert_exporter": "python",
   "pygments_lexer": "ipython2",
   "version": "2.7.14"
  }
 },
 "nbformat": 4,
 "nbformat_minor": 2
}
