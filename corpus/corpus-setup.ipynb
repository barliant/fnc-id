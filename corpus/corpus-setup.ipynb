{
 "cells": [
  {
   "cell_type": "markdown",
   "metadata": {},
   "source": [
    "# doc2vec on corpus\n",
    "\n",
    "Kita coba analisis \"ciri-ciri\" dokumen hoax yang membedakan dengan dokumen fakta sebetulnya apa. Hipotesisnya dengan ```doc2vec``` dapat diekstrak fitur penciri (_differentiating features_) dari dokumen hoax.\n"
   ]
  },
  {
   "cell_type": "code",
   "execution_count": 1,
   "metadata": {
    "collapsed": true
   },
   "outputs": [],
   "source": [
    "import pandas as pd"
   ]
  },
  {
   "cell_type": "markdown",
   "metadata": {},
   "source": [
    "Sebelumnya corpus yang sudah terkumpul dipisahkan secara manual ke dua file csv terpisah, ```hoax.csv``` dan ```facts.csv```. Kali ini dicoba untuk membaca semua corpus secara terpadu dari satu file csv yang memuat dua kelompok dokumen hoax dan facts.\n"
   ]
  },
  {
   "cell_type": "code",
   "execution_count": 2,
   "metadata": {},
   "outputs": [
    {
     "data": {
      "text/html": [
       "<div>\n",
       "<style>\n",
       "    .dataframe thead tr:only-child th {\n",
       "        text-align: right;\n",
       "    }\n",
       "\n",
       "    .dataframe thead th {\n",
       "        text-align: left;\n",
       "    }\n",
       "\n",
       "    .dataframe tbody tr th {\n",
       "        vertical-align: top;\n",
       "    }\n",
       "</style>\n",
       "<table border=\"1\" class=\"dataframe\">\n",
       "  <thead>\n",
       "    <tr style=\"text-align: right;\">\n",
       "      <th></th>\n",
       "      <th>Judul</th>\n",
       "      <th>Isi</th>\n",
       "      <th>Label</th>\n",
       "    </tr>\n",
       "  </thead>\n",
       "  <tbody>\n",
       "    <tr>\n",
       "      <th>0</th>\n",
       "      <td>Kabar Warga Bantaran Citarum Diminta Waspadai ...</td>\n",
       "      <td>Di tengah pemberitaan banjir di Pagarsih Bandu...</td>\n",
       "      <td>fact</td>\n",
       "    </tr>\n",
       "    <tr>\n",
       "      <th>1</th>\n",
       "      <td>Pesan Bijak Bintang Iklan Rokok Sebelum Mening...</td>\n",
       "      <td>Foto Wayne McLaren, seorang mantan bintang ikl...</td>\n",
       "      <td>fact</td>\n",
       "    </tr>\n",
       "    <tr>\n",
       "      <th>2</th>\n",
       "      <td>Anggota Parlemen Ukraina Dilemparkan ke Bak Sa...</td>\n",
       "      <td>\"Di Ukraina Jika Anggota DPR Ga Becus Langsung...</td>\n",
       "      <td>fact</td>\n",
       "    </tr>\n",
       "    <tr>\n",
       "      <th>3</th>\n",
       "      <td>Ubah HGB Jadi SHM di BPN Depok Cuma Bayar Rp 5...</td>\n",
       "      <td>Beredar pesan berantai yang berisi informasi t...</td>\n",
       "      <td>fact</td>\n",
       "    </tr>\n",
       "    <tr>\n",
       "      <th>4</th>\n",
       "      <td>Kartu 'Bebas Masalah' Khusus Untuk Bule di Bali</td>\n",
       "      <td>Pesan berantai beredar melalui media sosial te...</td>\n",
       "      <td>fact</td>\n",
       "    </tr>\n",
       "  </tbody>\n",
       "</table>\n",
       "</div>"
      ],
      "text/plain": [
       "                                               Judul  \\\n",
       "0  Kabar Warga Bantaran Citarum Diminta Waspadai ...   \n",
       "1  Pesan Bijak Bintang Iklan Rokok Sebelum Mening...   \n",
       "2  Anggota Parlemen Ukraina Dilemparkan ke Bak Sa...   \n",
       "3  Ubah HGB Jadi SHM di BPN Depok Cuma Bayar Rp 5...   \n",
       "4    Kartu 'Bebas Masalah' Khusus Untuk Bule di Bali   \n",
       "\n",
       "                                                 Isi Label  \n",
       "0  Di tengah pemberitaan banjir di Pagarsih Bandu...  fact  \n",
       "1  Foto Wayne McLaren, seorang mantan bintang ikl...  fact  \n",
       "2  \"Di Ukraina Jika Anggota DPR Ga Becus Langsung...  fact  \n",
       "3  Beredar pesan berantai yang berisi informasi t...  fact  \n",
       "4  Pesan berantai beredar melalui media sosial te...  fact  "
      ]
     },
     "execution_count": 2,
     "metadata": {},
     "output_type": "execute_result"
    }
   ],
   "source": [
    "#fakta = pd.read_csv('hoax.csv')\n",
    "#fakta.head()\n",
    "corpus = pd.read_csv('corpus.csv')\n",
    "corpus.head()\n"
   ]
  },
  {
   "cell_type": "code",
   "execution_count": 3,
   "metadata": {},
   "outputs": [
    {
     "data": {
      "text/html": [
       "<div>\n",
       "<style>\n",
       "    .dataframe thead tr:only-child th {\n",
       "        text-align: right;\n",
       "    }\n",
       "\n",
       "    .dataframe thead th {\n",
       "        text-align: left;\n",
       "    }\n",
       "\n",
       "    .dataframe tbody tr th {\n",
       "        vertical-align: top;\n",
       "    }\n",
       "</style>\n",
       "<table border=\"1\" class=\"dataframe\">\n",
       "  <thead>\n",
       "    <tr style=\"text-align: right;\">\n",
       "      <th></th>\n",
       "      <th>Judul</th>\n",
       "      <th>Isi</th>\n",
       "    </tr>\n",
       "  </thead>\n",
       "  <tbody>\n",
       "    <tr>\n",
       "      <th>64</th>\n",
       "      <td>PNS Bantul Ditangkap Terkait Sindikat Saracen</td>\n",
       "      <td>Terungkapnya jaringan Saracen menjadi pemberit...</td>\n",
       "    </tr>\n",
       "    <tr>\n",
       "      <th>65</th>\n",
       "      <td>Kabar Singapore Airlines Terbakar di Changi</td>\n",
       "      <td>Isu ini dihembuskan pertama kali oleh pemilik ...</td>\n",
       "    </tr>\n",
       "    <tr>\n",
       "      <th>66</th>\n",
       "      <td>Kabut di Yogya Imbas Aktivitas Merapi</td>\n",
       "      <td>Pesan berantai di media sosial dan grup komuni...</td>\n",
       "    </tr>\n",
       "    <tr>\n",
       "      <th>67</th>\n",
       "      <td>Heboh Suhu Panas Ekstrem di Kuwait Bikin Pohon...</td>\n",
       "      <td>Dalam sepekan terakhir, beredar foto dan video...</td>\n",
       "    </tr>\n",
       "    <tr>\n",
       "      <th>68</th>\n",
       "      <td>Beredar Foto Jarum Suntik 'Penular' HIV-AIDS d...</td>\n",
       "      <td>\"Hati-hati mengambil tisu di toilet umum! Tolo...</td>\n",
       "    </tr>\n",
       "  </tbody>\n",
       "</table>\n",
       "</div>"
      ],
      "text/plain": [
       "                                                Judul  \\\n",
       "64      PNS Bantul Ditangkap Terkait Sindikat Saracen   \n",
       "65        Kabar Singapore Airlines Terbakar di Changi   \n",
       "66              Kabut di Yogya Imbas Aktivitas Merapi   \n",
       "67  Heboh Suhu Panas Ekstrem di Kuwait Bikin Pohon...   \n",
       "68  Beredar Foto Jarum Suntik 'Penular' HIV-AIDS d...   \n",
       "\n",
       "                                                  Isi  \n",
       "64  Terungkapnya jaringan Saracen menjadi pemberit...  \n",
       "65  Isu ini dihembuskan pertama kali oleh pemilik ...  \n",
       "66  Pesan berantai di media sosial dan grup komuni...  \n",
       "67  Dalam sepekan terakhir, beredar foto dan video...  \n",
       "68  \"Hati-hati mengambil tisu di toilet umum! Tolo...  "
      ]
     },
     "execution_count": 3,
     "metadata": {},
     "output_type": "execute_result"
    }
   ],
   "source": [
    "'''\n",
    "dataframe[dataframe.column == value] will filter a dataframe based on row that fulfill criteria\n",
    "dataframe.iloc[row_start:row_end, col_start:col_end] filters a dataframe using slicing method\n",
    "'''\n",
    "corpus_hoax = corpus[corpus.Label == 'hoax'].iloc[:, 0:2]\n",
    "corpus_facts = corpus[corpus.Label == 'fact'].iloc[:, 0:2]\n",
    "corpus_hoax.head()\n"
   ]
  },
  {
   "cell_type": "code",
   "execution_count": null,
   "metadata": {
    "collapsed": true
   },
   "outputs": [],
   "source": []
  }
 ],
 "metadata": {
  "kernelspec": {
   "display_name": "Python 2",
   "language": "python",
   "name": "python2"
  },
  "language_info": {
   "codemirror_mode": {
    "name": "ipython",
    "version": 2
   },
   "file_extension": ".py",
   "mimetype": "text/x-python",
   "name": "python",
   "nbconvert_exporter": "python",
   "pygments_lexer": "ipython2",
   "version": "2.7.13"
  }
 },
 "nbformat": 4,
 "nbformat_minor": 2
}
