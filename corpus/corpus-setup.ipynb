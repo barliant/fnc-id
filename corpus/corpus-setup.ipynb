{
 "cells": [
  {
   "cell_type": "markdown",
   "metadata": {},
   "source": [
    "# doc2vec on corpus\n",
    "\n",
    "Kita coba analisis \"ciri-ciri\" dokumen hoax yang membedakan dengan dokumen fakta sebetulnya apa. Hipotesisnya dengan ```doc2vec``` dapat diekstrak fitur penciri (_differentiating features_) dari dokumen hoax.\n"
   ]
  },
  {
   "cell_type": "code",
   "execution_count": 1,
   "metadata": {
    "collapsed": true
   },
   "outputs": [],
   "source": [
    "import pandas as pd"
   ]
  },
  {
   "cell_type": "markdown",
   "metadata": {},
   "source": [
    "Sebelumnya corpus yang sudah terkumpul dipisahkan secara manual ke dua file csv terpisah, ```hoax.csv``` dan ```facts.csv```. Kali ini dicoba untuk membaca semua corpus secara terpadu dari satu file csv yang memuat dua kelompok dokumen hoax dan facts.\n"
   ]
  },
  {
   "cell_type": "code",
   "execution_count": 4,
   "metadata": {
    "collapsed": false,
    "scrolled": true
   },
   "outputs": [
    {
     "data": {
      "text/html": [
       "<div>\n",
       "<table border=\"1\" class=\"dataframe\">\n",
       "  <thead>\n",
       "    <tr style=\"text-align: right;\">\n",
       "      <th></th>\n",
       "      <th>corpus</th>\n",
       "    </tr>\n",
       "  </thead>\n",
       "  <tbody>\n",
       "    <tr>\n",
       "      <th>0</th>\n",
       "      <td>Terungkapnya jaringan Saracen menjadi pemberit...</td>\n",
       "    </tr>\n",
       "    <tr>\n",
       "      <th>1</th>\n",
       "      <td>Isu ini dihembuskan pertama kali oleh pemilik ...</td>\n",
       "    </tr>\n",
       "    <tr>\n",
       "      <th>2</th>\n",
       "      <td>Pesan berantai di media sosial dan grup komuni...</td>\n",
       "    </tr>\n",
       "    <tr>\n",
       "      <th>3</th>\n",
       "      <td>Dalam sepekan terakhir, beredar foto dan video...</td>\n",
       "    </tr>\n",
       "    <tr>\n",
       "      <th>4</th>\n",
       "      <td>\"Hati-hati mengambil tisu di toilet umum! Tolo...</td>\n",
       "    </tr>\n",
       "  </tbody>\n",
       "</table>\n",
       "</div>"
      ],
      "text/plain": [
       "                                              corpus\n",
       "0  Terungkapnya jaringan Saracen menjadi pemberit...\n",
       "1  Isu ini dihembuskan pertama kali oleh pemilik ...\n",
       "2  Pesan berantai di media sosial dan grup komuni...\n",
       "3  Dalam sepekan terakhir, beredar foto dan video...\n",
       "4  \"Hati-hati mengambil tisu di toilet umum! Tolo..."
      ]
     },
     "execution_count": 4,
     "metadata": {},
     "output_type": "execute_result"
    }
   ],
   "source": [
    "#fakta = pd.read_csv('hoax.csv')\n",
    "#fakta.head()\n",
    "corpus = pd.read_csv('corpus.csv')\n",
    "corpus.head()\n"
   ]
  },
  {
   "cell_type": "code",
   "execution_count": 96,
   "metadata": {
    "collapsed": false
   },
   "outputs": [
    {
     "data": {
      "text/html": [
       "<div>\n",
       "<style scoped>\n",
       "    .dataframe tbody tr th:only-of-type {\n",
       "        vertical-align: middle;\n",
       "    }\n",
       "\n",
       "    .dataframe tbody tr th {\n",
       "        vertical-align: top;\n",
       "    }\n",
       "\n",
       "    .dataframe thead th {\n",
       "        text-align: right;\n",
       "    }\n",
       "</style>\n",
       "<table border=\"1\" class=\"dataframe\">\n",
       "  <thead>\n",
       "    <tr style=\"text-align: right;\">\n",
       "      <th></th>\n",
       "      <th>Judul</th>\n",
       "      <th>Isi</th>\n",
       "    </tr>\n",
       "  </thead>\n",
       "  <tbody>\n",
       "    <tr>\n",
       "      <th>64</th>\n",
       "      <td>PNS Bantul Ditangkap Terkait Sindikat Saracen</td>\n",
       "      <td>Terungkapnya jaringan Saracen menjadi pemberit...</td>\n",
       "    </tr>\n",
       "    <tr>\n",
       "      <th>65</th>\n",
       "      <td>Kabar Singapore Airlines Terbakar di Changi</td>\n",
       "      <td>Isu ini dihembuskan pertama kali oleh pemilik ...</td>\n",
       "    </tr>\n",
       "    <tr>\n",
       "      <th>66</th>\n",
       "      <td>Kabut di Yogya Imbas Aktivitas Merapi</td>\n",
       "      <td>Pesan berantai di media sosial dan grup komuni...</td>\n",
       "    </tr>\n",
       "    <tr>\n",
       "      <th>67</th>\n",
       "      <td>Heboh Suhu Panas Ekstrem di Kuwait Bikin Pohon...</td>\n",
       "      <td>Dalam sepekan terakhir, beredar foto dan video...</td>\n",
       "    </tr>\n",
       "    <tr>\n",
       "      <th>68</th>\n",
       "      <td>Beredar Foto Jarum Suntik 'Penular' HIV-AIDS d...</td>\n",
       "      <td>\"Hati-hati mengambil tisu di toilet umum! Tolo...</td>\n",
       "    </tr>\n",
       "  </tbody>\n",
       "</table>\n",
       "</div>"
      ],
      "text/plain": [
       "                                                Judul  \\\n",
       "64      PNS Bantul Ditangkap Terkait Sindikat Saracen   \n",
       "65        Kabar Singapore Airlines Terbakar di Changi   \n",
       "66              Kabut di Yogya Imbas Aktivitas Merapi   \n",
       "67  Heboh Suhu Panas Ekstrem di Kuwait Bikin Pohon...   \n",
       "68  Beredar Foto Jarum Suntik 'Penular' HIV-AIDS d...   \n",
       "\n",
       "                                                  Isi  \n",
       "64  Terungkapnya jaringan Saracen menjadi pemberit...  \n",
       "65  Isu ini dihembuskan pertama kali oleh pemilik ...  \n",
       "66  Pesan berantai di media sosial dan grup komuni...  \n",
       "67  Dalam sepekan terakhir, beredar foto dan video...  \n",
       "68  \"Hati-hati mengambil tisu di toilet umum! Tolo...  "
      ]
     },
     "execution_count": 96,
     "metadata": {},
     "output_type": "execute_result"
    }
   ],
   "source": [
    "'''\n",
    "dataframe[dataframe.column == value] will filter a dataframe based on row that fulfill criteria\n",
    "dataframe.iloc[row_start:row_end, col_start:col_end] filters a dataframe using slicing method\n",
    "'''\n",
    "corpus_hoax = corpus[corpus.Label == 'hoax'].iloc[:, 0:2]\n",
    "corpus_facts = corpus[corpus.Label == 'fact'].iloc[:, 0:2]\n",
    "corpus_hoax.head()\n"
   ]
  },
  {
   "cell_type": "code",
   "execution_count": 97,
   "metadata": {
    "collapsed": false
   },
   "outputs": [
    {
     "data": {
      "text/plain": [
       "(55, 2)"
      ]
     },
     "execution_count": 97,
     "metadata": {},
     "output_type": "execute_result"
    }
   ],
   "source": [
    "corpus_hoax.shape\n"
   ]
  },
  {
   "cell_type": "code",
   "execution_count": 98,
   "metadata": {
    "collapsed": false
   },
   "outputs": [
    {
     "data": {
      "text/plain": [
       "(64, 2)"
      ]
     },
     "execution_count": 98,
     "metadata": {},
     "output_type": "execute_result"
    }
   ],
   "source": [
    "corpus_facts.shape\n"
   ]
  },
  {
   "cell_type": "code",
   "execution_count": 8,
   "metadata": {
    "collapsed": false
   },
   "outputs": [
    {
     "name": "stdout",
     "output_type": "stream",
     "text": [
      "corpus    Terungkapnya jaringan Saracen menjadi pemberit...\n",
      "Name: 0, dtype: object\n",
      "corpus    Isu ini dihembuskan pertama kali oleh pemilik ...\n",
      "Name: 1, dtype: object\n",
      "corpus    Pesan berantai di media sosial dan grup komuni...\n",
      "Name: 2, dtype: object\n",
      "corpus    Dalam sepekan terakhir, beredar foto dan video...\n",
      "Name: 3, dtype: object\n",
      "corpus    \"Hati-hati mengambil tisu di toilet umum! Tolo...\n",
      "Name: 4, dtype: object\n",
      "corpus    Ada seorang wanita meninggal mendadak dengan k...\n",
      "Name: 5, dtype: object\n",
      "corpus    Kabar ini berawal dari postingan pengguna Face...\n",
      "Name: 6, dtype: object\n",
      "corpus    Info dari teman. Teman komunitas saya baru ken...\n",
      "Name: 7, dtype: object\n",
      "corpus    Sebuah pesan berantai beredar di WhatsApp grup...\n",
      "Name: 8, dtype: object\n",
      "corpus    Dilaporkan sejumlah warga, sejak sepekan lalu ...\n",
      "Name: 9, dtype: object\n",
      "corpus    Muncul pesan berantai yang berisi informasi ak...\n",
      "Name: 10, dtype: object\n",
      "corpus    Laporan Kebakaran Mobil. Pada hari Sabtu tgl 1...\n",
      "Name: 11, dtype: object\n",
      "corpus    Sebuah pesan berantai beredar di aplikasi pesa...\n",
      "Name: 12, dtype: object\n",
      "corpus    Broadcast tersebut menyebut tawuran yang terja...\n",
      "Name: 13, dtype: object\n",
      "corpus    Broadcast itu menyebutkan, ada empat titik di ...\n",
      "Name: 14, dtype: object\n",
      "corpus    Sebuah pesan berisi peringatan kepada pengguna...\n",
      "Name: 15, dtype: object\n",
      "corpus    Beredar video di sosial media Twitter yang men...\n",
      "Name: 16, dtype: object\n",
      "corpus    Sebuah makam di Tempat Pemakaman Umum (TPU) Bu...\n",
      "Name: 17, dtype: object\n",
      "corpus    Sejak awal Juli, warganet dibuat iba oleh ceri...\n",
      "Name: 18, dtype: object\n",
      "corpus    Beredar broadcast di Facebook, Twitter, dan gr...\n",
      "Name: 19, dtype: object\n",
      "corpus    Pesan itu tersebar di beberapa waktu terakhir....\n",
      "Name: 20, dtype: object\n",
      "corpus    Tahun ini di Bulan Juli ada 5x senin, 5x selas...\n",
      "Name: 21, dtype: object\n",
      "corpus    Pada Jumat, 21 Desember 2012, Detikcom menurun...\n",
      "Name: 22, dtype: object\n",
      "corpus    Kalau anak demam, JANGAN tampal Cool Fever di ...\n",
      "Name: 23, dtype: object\n",
      "corpus    Maidany.com – Peristiwa penyerangan Israel ter...\n",
      "Name: 24, dtype: object\n",
      "corpus    Pendaftaran GRATIS !!! Open Recruitment Grab, ...\n",
      "Name: 25, dtype: object\n",
      "corpus    Perhatian… Perlu diketahui, baru menerima pesa...\n",
      "Name: 26, dtype: object\n",
      "corpus    Raja Keraton Ngayogyakarta yang juga Gubernur ...\n",
      "Name: 27, dtype: object\n"
     ]
    }
   ],
   "source": [
    "for isi in corpus.iterrows():\n",
    "    print(isi[0])\n",
    "    "
   ]
  },
  {
   "cell_type": "code",
   "execution_count": 29,
   "metadata": {
    "collapsed": false
   },
   "outputs": [
    {
     "data": {
      "text/html": [
       "<div>\n",
       "<table border=\"1\" class=\"dataframe\">\n",
       "  <thead>\n",
       "    <tr style=\"text-align: right;\">\n",
       "      <th></th>\n",
       "      <th>corpus</th>\n",
       "    </tr>\n",
       "  </thead>\n",
       "  <tbody>\n",
       "    <tr>\n",
       "      <th>0</th>\n",
       "      <td>Di tengah pemberitaan banjir di Pagarsih Bandu...</td>\n",
       "    </tr>\n",
       "    <tr>\n",
       "      <th>1</th>\n",
       "      <td>Foto Wayne McLaren, seorang mantan bintang ikl...</td>\n",
       "    </tr>\n",
       "    <tr>\n",
       "      <th>2</th>\n",
       "      <td>\"Di Ukraina Jika Anggota DPR Ga Becus Langsung...</td>\n",
       "    </tr>\n",
       "    <tr>\n",
       "      <th>3</th>\n",
       "      <td>Beredar pesan berantai yang berisi informasi t...</td>\n",
       "    </tr>\n",
       "    <tr>\n",
       "      <th>4</th>\n",
       "      <td>Pesan berantai beredar melalui media sosial te...</td>\n",
       "    </tr>\n",
       "  </tbody>\n",
       "</table>\n",
       "</div>"
      ],
      "text/plain": [
       "                                              corpus\n",
       "0  Di tengah pemberitaan banjir di Pagarsih Bandu...\n",
       "1  Foto Wayne McLaren, seorang mantan bintang ikl...\n",
       "2  \"Di Ukraina Jika Anggota DPR Ga Becus Langsung...\n",
       "3  Beredar pesan berantai yang berisi informasi t...\n",
       "4  Pesan berantai beredar melalui media sosial te..."
      ]
     },
     "execution_count": 29,
     "metadata": {},
     "output_type": "execute_result"
    }
   ],
   "source": [
    "headers = [\"corpus\"]\n",
    "corp_h = pd.read_csv('faktahalf.csv', skipinitialspace=True, usecols = headers)\n",
    "corp_h.head()"
   ]
  },
  {
   "cell_type": "code",
   "execution_count": 31,
   "metadata": {
    "collapsed": false
   },
   "outputs": [
    {
     "name": "stdout",
     "output_type": "stream",
     "text": [
      "32\n"
     ]
    }
   ],
   "source": [
    "print len(corp_h.corpus)"
   ]
  },
  {
   "cell_type": "code",
   "execution_count": 32,
   "metadata": {
    "collapsed": false
   },
   "outputs": [],
   "source": [
    "halfcorpus = open(\"halffakta.txt\", 'w')\n",
    "for i in range(0,len(corp_h.corpus)):\n",
    "    halfcorpus.write(corp_h.corpus[i])\n",
    "    halfcorpus.write(\"\\n\")\n",
    "    i += 1\n",
    "\n",
    "halfcorpus.close()"
   ]
  },
  {
   "cell_type": "code",
   "execution_count": null,
   "metadata": {
    "collapsed": true
   },
   "outputs": [],
   "source": []
  },
  {
   "cell_type": "code",
   "execution_count": null,
   "metadata": {
    "collapsed": true
   },
   "outputs": [],
   "source": []
  },
  {
   "cell_type": "code",
   "execution_count": null,
   "metadata": {
    "collapsed": true
   },
   "outputs": [],
   "source": []
  }
 ],
 "metadata": {
  "kernelspec": {
   "display_name": "Python 2",
   "language": "python",
   "name": "python2"
  },
  "language_info": {
   "codemirror_mode": {
    "name": "ipython",
    "version": 2
   },
   "file_extension": ".py",
   "mimetype": "text/x-python",
   "name": "python",
   "nbconvert_exporter": "python",
   "pygments_lexer": "ipython2",
   "version": "2.7.13"
  }
 },
 "nbformat": 4,
 "nbformat_minor": 2
}
