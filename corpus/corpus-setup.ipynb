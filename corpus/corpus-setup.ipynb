{
 "cells": [
  {
   "cell_type": "markdown",
   "metadata": {},
   "source": [
    "# doc2vec on corpus\n",
    "\n",
    "Kita coba analisis \"ciri-ciri\" dokumen hoax yang membedakan dengan dokumen fakta sebetulnya apa. Hipotesisnya dengan ```doc2vec``` dapat diekstrak fitur penciri (_differentiating features_) dari dokumen hoax.\n"
   ]
  },
  {
   "cell_type": "code",
   "execution_count": 2,
   "metadata": {
    "collapsed": true
   },
   "outputs": [],
   "source": [
    "import pandas as pd"
   ]
  },
  {
   "cell_type": "markdown",
   "metadata": {},
   "source": [
    "Sebelumnya corpus yang sudah terkumpul dipisahkan secara manual ke dua file csv terpisah, ```hoax.csv``` dan ```facts.csv```. Kali ini dicoba untuk membaca semua corpus secara terpadu dari satu file csv yang memuat dua kelompok dokumen hoax dan facts.\n"
   ]
  },
  {
   "cell_type": "code",
   "execution_count": 3,
   "metadata": {},
   "outputs": [
    {
     "data": {
      "text/html": [
       "<div>\n",
       "<style>\n",
       "    .dataframe thead tr:only-child th {\n",
       "        text-align: right;\n",
       "    }\n",
       "\n",
       "    .dataframe thead th {\n",
       "        text-align: left;\n",
       "    }\n",
       "\n",
       "    .dataframe tbody tr th {\n",
       "        vertical-align: top;\n",
       "    }\n",
       "</style>\n",
       "<table border=\"1\" class=\"dataframe\">\n",
       "  <thead>\n",
       "    <tr style=\"text-align: right;\">\n",
       "      <th></th>\n",
       "      <th>Judul</th>\n",
       "      <th>Isi</th>\n",
       "      <th>Label</th>\n",
       "    </tr>\n",
       "  </thead>\n",
       "  <tbody>\n",
       "    <tr>\n",
       "      <th>0</th>\n",
       "      <td>Kabar Warga Bantaran Citarum Diminta Waspadai ...</td>\n",
       "      <td>Di tengah pemberitaan banjir di Pagarsih Bandu...</td>\n",
       "      <td>fact</td>\n",
       "    </tr>\n",
       "    <tr>\n",
       "      <th>1</th>\n",
       "      <td>Pesan Bijak Bintang Iklan Rokok Sebelum Mening...</td>\n",
       "      <td>Foto Wayne McLaren, seorang mantan bintang ikl...</td>\n",
       "      <td>fact</td>\n",
       "    </tr>\n",
       "    <tr>\n",
       "      <th>2</th>\n",
       "      <td>Anggota Parlemen Ukraina Dilemparkan ke Bak Sa...</td>\n",
       "      <td>\"Di Ukraina Jika Anggota DPR Ga Becus Langsung...</td>\n",
       "      <td>fact</td>\n",
       "    </tr>\n",
       "    <tr>\n",
       "      <th>3</th>\n",
       "      <td>Ubah HGB Jadi SHM di BPN Depok Cuma Bayar Rp 5...</td>\n",
       "      <td>Beredar pesan berantai yang berisi informasi t...</td>\n",
       "      <td>fact</td>\n",
       "    </tr>\n",
       "    <tr>\n",
       "      <th>4</th>\n",
       "      <td>Kartu 'Bebas Masalah' Khusus Untuk Bule di Bali</td>\n",
       "      <td>Pesan berantai beredar melalui media sosial te...</td>\n",
       "      <td>fact</td>\n",
       "    </tr>\n",
       "  </tbody>\n",
       "</table>\n",
       "</div>"
      ],
      "text/plain": [
       "                                               Judul  \\\n",
       "0  Kabar Warga Bantaran Citarum Diminta Waspadai ...   \n",
       "1  Pesan Bijak Bintang Iklan Rokok Sebelum Mening...   \n",
       "2  Anggota Parlemen Ukraina Dilemparkan ke Bak Sa...   \n",
       "3  Ubah HGB Jadi SHM di BPN Depok Cuma Bayar Rp 5...   \n",
       "4    Kartu 'Bebas Masalah' Khusus Untuk Bule di Bali   \n",
       "\n",
       "                                                 Isi Label  \n",
       "0  Di tengah pemberitaan banjir di Pagarsih Bandu...  fact  \n",
       "1  Foto Wayne McLaren, seorang mantan bintang ikl...  fact  \n",
       "2  \"Di Ukraina Jika Anggota DPR Ga Becus Langsung...  fact  \n",
       "3  Beredar pesan berantai yang berisi informasi t...  fact  \n",
       "4  Pesan berantai beredar melalui media sosial te...  fact  "
      ]
     },
     "execution_count": 3,
     "metadata": {},
     "output_type": "execute_result"
    }
   ],
   "source": [
    "#fakta = pd.read_csv('hoax.csv')\n",
    "#fakta.head()\n",
    "corpus = pd.read_csv('corpus.csv')\n",
    "corpus.head()\n"
   ]
  },
  {
   "cell_type": "code",
   "execution_count": 4,
   "metadata": {},
   "outputs": [
    {
     "data": {
      "text/html": [
       "<div>\n",
       "<style>\n",
       "    .dataframe thead tr:only-child th {\n",
       "        text-align: right;\n",
       "    }\n",
       "\n",
       "    .dataframe thead th {\n",
       "        text-align: left;\n",
       "    }\n",
       "\n",
       "    .dataframe tbody tr th {\n",
       "        vertical-align: top;\n",
       "    }\n",
       "</style>\n",
       "<table border=\"1\" class=\"dataframe\">\n",
       "  <thead>\n",
       "    <tr style=\"text-align: right;\">\n",
       "      <th></th>\n",
       "      <th>Judul</th>\n",
       "      <th>Isi</th>\n",
       "    </tr>\n",
       "  </thead>\n",
       "  <tbody>\n",
       "    <tr>\n",
       "      <th>64</th>\n",
       "      <td>PNS Bantul Ditangkap Terkait Sindikat Saracen</td>\n",
       "      <td>Terungkapnya jaringan Saracen menjadi pemberit...</td>\n",
       "    </tr>\n",
       "    <tr>\n",
       "      <th>65</th>\n",
       "      <td>Kabar Singapore Airlines Terbakar di Changi</td>\n",
       "      <td>Isu ini dihembuskan pertama kali oleh pemilik ...</td>\n",
       "    </tr>\n",
       "    <tr>\n",
       "      <th>66</th>\n",
       "      <td>Kabut di Yogya Imbas Aktivitas Merapi</td>\n",
       "      <td>Pesan berantai di media sosial dan grup komuni...</td>\n",
       "    </tr>\n",
       "    <tr>\n",
       "      <th>67</th>\n",
       "      <td>Heboh Suhu Panas Ekstrem di Kuwait Bikin Pohon...</td>\n",
       "      <td>Dalam sepekan terakhir, beredar foto dan video...</td>\n",
       "    </tr>\n",
       "    <tr>\n",
       "      <th>68</th>\n",
       "      <td>Beredar Foto Jarum Suntik 'Penular' HIV-AIDS d...</td>\n",
       "      <td>\"Hati-hati mengambil tisu di toilet umum! Tolo...</td>\n",
       "    </tr>\n",
       "  </tbody>\n",
       "</table>\n",
       "</div>"
      ],
      "text/plain": [
       "                                                Judul  \\\n",
       "64      PNS Bantul Ditangkap Terkait Sindikat Saracen   \n",
       "65        Kabar Singapore Airlines Terbakar di Changi   \n",
       "66              Kabut di Yogya Imbas Aktivitas Merapi   \n",
       "67  Heboh Suhu Panas Ekstrem di Kuwait Bikin Pohon...   \n",
       "68  Beredar Foto Jarum Suntik 'Penular' HIV-AIDS d...   \n",
       "\n",
       "                                                  Isi  \n",
       "64  Terungkapnya jaringan Saracen menjadi pemberit...  \n",
       "65  Isu ini dihembuskan pertama kali oleh pemilik ...  \n",
       "66  Pesan berantai di media sosial dan grup komuni...  \n",
       "67  Dalam sepekan terakhir, beredar foto dan video...  \n",
       "68  \"Hati-hati mengambil tisu di toilet umum! Tolo...  "
      ]
     },
     "execution_count": 4,
     "metadata": {},
     "output_type": "execute_result"
    }
   ],
   "source": [
    "'''\n",
    "dataframe[dataframe.column == value] will filter a dataframe based on row that fulfill criteria\n",
    "dataframe.iloc[row_start:row_end, col_start:col_end] filters a dataframe using slicing method\n",
    "'''\n",
    "corpus_hoax = corpus[corpus.Label == 'hoax'].iloc[:, 0:2]\n",
    "corpus_facts = corpus[corpus.Label == 'fact'].iloc[:, 0:2]\n",
    "corpus_hoax.head()\n"
   ]
  },
  {
   "cell_type": "code",
   "execution_count": 7,
   "metadata": {},
   "outputs": [
    {
     "data": {
      "text/plain": [
       "(55, 2)"
      ]
     },
     "execution_count": 7,
     "metadata": {},
     "output_type": "execute_result"
    }
   ],
   "source": [
    "corpus_hoax.shape\n"
   ]
  },
  {
   "cell_type": "code",
   "execution_count": 8,
   "metadata": {},
   "outputs": [
    {
     "data": {
      "text/plain": [
       "(64, 2)"
      ]
     },
     "execution_count": 8,
     "metadata": {},
     "output_type": "execute_result"
    }
   ],
   "source": [
    "corpus_facts.shape\n"
   ]
  },
  {
   "cell_type": "code",
   "execution_count": 9,
   "metadata": {},
   "outputs": [
    {
     "data": {
      "text/plain": [
       "64     Terungkapnya jaringan Saracen menjadi pemberit...\n",
       "65     Isu ini dihembuskan pertama kali oleh pemilik ...\n",
       "66     Pesan berantai di media sosial dan grup komuni...\n",
       "67     Dalam sepekan terakhir, beredar foto dan video...\n",
       "68     \"Hati-hati mengambil tisu di toilet umum! Tolo...\n",
       "69     Ada seorang wanita meninggal mendadak dengan k...\n",
       "70     Kabar ini berawal dari postingan pengguna Face...\n",
       "71     Info dari teman. Teman komunitas saya baru ken...\n",
       "72     Sebuah pesan berantai beredar di WhatsApp grup...\n",
       "73     Dilaporkan sejumlah warga, sejak sepekan lalu ...\n",
       "74     Muncul pesan berantai yang berisi informasi ak...\n",
       "75     Laporan Kebakaran Mobil. Pada hari Sabtu tgl 1...\n",
       "76     Sebuah pesan berantai beredar di aplikasi pesa...\n",
       "77     Broadcast tersebut menyebut tawuran yang terja...\n",
       "78     Broadcast itu menyebutkan, ada empat titik di ...\n",
       "79     Sebuah pesan berisi peringatan kepada pengguna...\n",
       "80     Beredar video di sosial media Twitter yang men...\n",
       "81     Sebuah makam di Tempat Pemakaman Umum (TPU) Bu...\n",
       "82     Sejak awal Juli, warganet dibuat iba oleh ceri...\n",
       "83     Beredar broadcast di Facebook, Twitter, dan gr...\n",
       "84     Pesan itu tersebar di beberapa waktu terakhir....\n",
       "85     Pada Jumat, 21 Desember 2012, Detikcom menurun...\n",
       "86     Kalau anak demam, JANGAN tampal Cool Fever di ...\n",
       "87     Maidany.com – Peristiwa penyerangan Israel ter...\n",
       "88     Pendaftaran GRATIS !!! Open Recruitment Grab, ...\n",
       "89     Perhatian… Perlu diketahui, baru menerima pesa...\n",
       "90     Raja Keraton Ngayogyakarta yang juga Gubernur ...\n",
       "91     Kepada teman2.hindari.jalan raya bogor arah.ci...\n",
       "92     Mohon perhatian utk stakeholder terkait, terii...\n",
       "93     Ass.. Wr.. wb? Baru dpt info, ma'af klo tlat n...\n",
       "94     SUBHANALLAH UPIN DAN IPIN.Tahukah anda Sebenar...\n",
       "95     Gak baca d'rasukin !D! SMP MUHAMMASIYAH  tpatn...\n",
       "96     Sorry ya Bm takut beneran, hehe. Nama saya Ani...\n",
       "97     200136658003199 kode untuk blackBerry kirim ko...\n",
       "98     Friends, kalian percaya tdk Subuh bsk akan ada...\n",
       "99     Mulai Hari Senin besok WhatSapp akan dikenakan...\n",
       "100    Mulai besok dan seterusnya ada peraturan komun...\n",
       "101    Kami dari pihak Blackberry Offical ingin membe...\n",
       "102    Blackberry menginformasikan semua pengguna kam...\n",
       "103    Bus Nugroho Rem blong dari arah Jl. Wahidin (t...\n",
       "104    Tahun ini di Bulan Juli ada 5x senin, 5x selas...\n",
       "105    SEBARKAN!!!!!! Hati2 jangan jajan yang pakai c...\n",
       "106    Sekedar informasi, ini adalah binatang yang la...\n",
       "107    Celaka yahudi zionis. Daging orang islam di Pa...\n",
       "108     Bagi pecinta kuliner, terutama makanan cepat ...\n",
       "109    JANGAN MALAS UNTUK KENCING MALAM AGAR TIDAK MA...\n",
       "110    Diharap keluar rumah nanti malam pukul 22.30-2...\n",
       "111    Peringatan gempa susulan yg akan terjadi nanti...\n",
       "112    Setelah beberapa tahun, kami akhirnya mencapai...\n",
       "113    Laporan Kebakaran Mobil. Pada hari Sabtu tgl 1...\n",
       "114    Seseorang yang telah meninggal dan sudah dimak...\n",
       "115    Sri Mulyani adalah antek Kapitalisme mengemas ...\n",
       "116    WASPADA!!! Data dari polsek cisaat yg menjadi ...\n",
       "117    Razia STNK. Dimulai Besok pagi. 11/01/2018. Pe...\n",
       "118    INFO TERKINI: ✅Mulai besok dan seterusnya ada ...\n",
       "Name: Isi, dtype: object"
      ]
     },
     "execution_count": 9,
     "metadata": {},
     "output_type": "execute_result"
    }
   ],
   "source": [
    "for corpus_hoax.iterrows():\n",
    "    "
   ]
  }
 ],
 "metadata": {
  "kernelspec": {
   "display_name": "Python 2",
   "language": "python",
   "name": "python2"
  },
  "language_info": {
   "codemirror_mode": {
    "name": "ipython",
    "version": 2
   },
   "file_extension": ".py",
   "mimetype": "text/x-python",
   "name": "python",
   "nbconvert_exporter": "python",
   "pygments_lexer": "ipython2",
   "version": "2.7.13"
  }
 },
 "nbformat": 4,
 "nbformat_minor": 2
}
