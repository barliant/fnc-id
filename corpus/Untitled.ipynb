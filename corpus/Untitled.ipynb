{
 "cells": [
  {
   "cell_type": "markdown",
   "metadata": {
    "collapsed": true
   },
   "source": [
    "Lowercase + remove symbol + stopwords"
   ]
  },
  {
   "cell_type": "markdown",
   "metadata": {
    "collapsed": true
   },
   "source": [
    "Hoax"
   ]
  },
  {
   "cell_type": "code",
   "execution_count": 3,
   "metadata": {
    "collapsed": true
   },
   "outputs": [],
   "source": [
    "filehoax = open('all_hoax.txt').read()\n",
    "hoaxlow = filehoax.lower()\n",
    "open('all_hoax_low.txt', 'w').write(hoaxlow)\n",
    "\n",
    "import re\n",
    "string = open('all_hoax_low.txt').read()\n",
    "new_str = re.sub('[^a-zA-Z\\n]', ' ', string)\n",
    "open('all_hoax_nosym.txt', 'w').write(new_str)"
   ]
  },
  {
   "cell_type": "code",
   "execution_count": 4,
   "metadata": {
    "collapsed": false
   },
   "outputs": [],
   "source": [
    "#removing stopwords\n",
    "\n",
    "f1 = open('all_hoax_nosym.txt', 'r')\n",
    "f2 = open('D:/tugas-akhir/fnc-id/django_project/hoaxdetector/hoax/static/stopwords_id.txt', 'r')\n",
    "f3 = open(\"all_hoax_stprmvd.txt\",\"w\")\n",
    "first_words=[]\n",
    "second_words=[]\n",
    "for line in f1:\n",
    "    words = line.split()\n",
    "    for w in words:\n",
    "        first_words.append(w)\n",
    "\n",
    "for line in f2:\n",
    "    w = line.split()\n",
    "    for i in w:\n",
    "        second_words.append(i)\n",
    "\n",
    "\n",
    "for word1 in first_words :\n",
    "    for word2 in second_words:\n",
    "        if word1 == word2:\n",
    "            while True:\n",
    "                try:\n",
    "                    first_words.remove(word2)\n",
    "                except:\n",
    "                    break\n",
    "            \n",
    "\n",
    "for word in first_words:\n",
    "    f3.write(word)\n",
    "    f3.write(' ')\n",
    "\n",
    "f1.close()\n",
    "f2.close()\n",
    "f3.close()\n",
    "\n",
    "  "
   ]
  },
  {
   "cell_type": "markdown",
   "metadata": {},
   "source": [
    "facts"
   ]
  },
  {
   "cell_type": "code",
   "execution_count": 5,
   "metadata": {
    "collapsed": true
   },
   "outputs": [],
   "source": [
    "filefacts = open('all_facts.txt').read()\n",
    "factslow = filefacts.lower()\n",
    "open('all_facts_low.txt', 'w').write(factslow)\n",
    "\n",
    "stringf = open('all_facts_low.txt').read()\n",
    "new_strf = re.sub('[^a-zA-Z\\n]', ' ', stringf)\n",
    "open('all_facts_nosym.txt', 'w').write(new_strf)"
   ]
  },
  {
   "cell_type": "code",
   "execution_count": 6,
   "metadata": {
    "collapsed": true
   },
   "outputs": [],
   "source": [
    "#removing stopwords\n",
    "\n",
    "f1f = open('all_facts_nosym.txt', 'r')\n",
    "f2f = open('D:/tugas-akhir/fnc-id/django_project/hoaxdetector/hoax/static/stopwords_id.txt', 'r')\n",
    "f3f = open(\"all_facts_stprmvd.txt\",\"w\")\n",
    "first_wordsf=[]\n",
    "second_wordsf=[]\n",
    "for line in f1f:\n",
    "    words = line.split()\n",
    "    for w in words:\n",
    "        first_wordsf.append(w)\n",
    "\n",
    "for line in f2f:\n",
    "    w = line.split()\n",
    "    for i in w:\n",
    "        second_wordsf.append(i)\n",
    "\n",
    "\n",
    "for word1 in first_wordsf :\n",
    "    for word2 in second_wordsf:\n",
    "        if word1 == word2:\n",
    "            while True:\n",
    "                try:\n",
    "                    first_wordsf.remove(word2)\n",
    "                except:\n",
    "                    break\n",
    "            \n",
    "\n",
    "for word in first_wordsf:\n",
    "    f3f.write(word)\n",
    "    f3f.write(' ')\n",
    "\n",
    "f1f.close()\n",
    "f2f.close()\n",
    "f3f.close()\n"
   ]
  },
  {
   "cell_type": "markdown",
   "metadata": {},
   "source": [
    "stemming"
   ]
  },
  {
   "cell_type": "markdown",
   "metadata": {},
   "source": [
    "hoax"
   ]
  },
  {
   "cell_type": "code",
   "execution_count": 7,
   "metadata": {
    "collapsed": false
   },
   "outputs": [
    {
     "ename": "ImportError",
     "evalue": "No module named Sastrawi.Stemmer.StemmerFactory",
     "output_type": "error",
     "traceback": [
      "\u001b[0;31m---------------------------------------------------------------------------\u001b[0m",
      "\u001b[0;31mImportError\u001b[0m                               Traceback (most recent call last)",
      "\u001b[0;32m<ipython-input-7-89d3f462e7d7>\u001b[0m in \u001b[0;36m<module>\u001b[0;34m()\u001b[0m\n\u001b[0;32m----> 1\u001b[0;31m \u001b[1;32mfrom\u001b[0m \u001b[0mSastrawi\u001b[0m\u001b[1;33m.\u001b[0m\u001b[0mStemmer\u001b[0m\u001b[1;33m.\u001b[0m\u001b[0mStemmerFactory\u001b[0m \u001b[1;32mimport\u001b[0m \u001b[0mStemmerFactory\u001b[0m\u001b[1;33m\u001b[0m\u001b[0m\n\u001b[0m\u001b[1;32m      2\u001b[0m \u001b[0mfactory\u001b[0m \u001b[1;33m=\u001b[0m \u001b[0mStemmerFactory\u001b[0m\u001b[1;33m(\u001b[0m\u001b[1;33m)\u001b[0m\u001b[1;33m\u001b[0m\u001b[0m\n\u001b[1;32m      3\u001b[0m \u001b[0mstemmer\u001b[0m \u001b[1;33m=\u001b[0m \u001b[0mfactory\u001b[0m\u001b[1;33m.\u001b[0m\u001b[0mcreate_stemmer\u001b[0m\u001b[1;33m(\u001b[0m\u001b[1;33m)\u001b[0m\u001b[1;33m\u001b[0m\u001b[0m\n\u001b[1;32m      4\u001b[0m \u001b[1;33m\u001b[0m\u001b[0m\n\u001b[1;32m      5\u001b[0m \u001b[0mhoax\u001b[0m \u001b[1;33m=\u001b[0m \u001b[0mopen\u001b[0m\u001b[1;33m(\u001b[0m\u001b[1;34m'all_hoax_stprmvd.txt'\u001b[0m\u001b[1;33m)\u001b[0m\u001b[1;33m.\u001b[0m\u001b[0mread\u001b[0m\u001b[1;33m(\u001b[0m\u001b[1;33m)\u001b[0m\u001b[1;33m\u001b[0m\u001b[0m\n",
      "\u001b[0;31mImportError\u001b[0m: No module named Sastrawi.Stemmer.StemmerFactory"
     ]
    }
   ],
   "source": [
    "from Sastrawi.Stemmer.StemmerFactory import StemmerFactory\n",
    "factory = StemmerFactory()\n",
    "stemmer = factory.create_stemmer()\n",
    "\n",
    "hoax = open('all_hoax_stprmvd.txt').read()\n",
    "hoax_stemmed = stemmer.stem(hoax)\n",
    "open('all_hoax_stemmed.txt', 'w').write(hoax_stemmed)"
   ]
  },
  {
   "cell_type": "markdown",
   "metadata": {},
   "source": [
    "facts"
   ]
  },
  {
   "cell_type": "code",
   "execution_count": null,
   "metadata": {
    "collapsed": true
   },
   "outputs": [],
   "source": [
    "fact = open('all_facts_stprmvd.txt').read()\n",
    "fact_stemmed = stemmer.stem(fact)\n",
    "open('all_facts_stemmed.txt', 'w').write(fact_stemmed)"
   ]
  },
  {
   "cell_type": "code",
   "execution_count": null,
   "metadata": {
    "collapsed": true
   },
   "outputs": [],
   "source": []
  },
  {
   "cell_type": "code",
   "execution_count": null,
   "metadata": {
    "collapsed": true
   },
   "outputs": [],
   "source": []
  },
  {
   "cell_type": "code",
   "execution_count": null,
   "metadata": {
    "collapsed": true
   },
   "outputs": [],
   "source": []
  },
  {
   "cell_type": "code",
   "execution_count": null,
   "metadata": {
    "collapsed": true
   },
   "outputs": [],
   "source": []
  },
  {
   "cell_type": "code",
   "execution_count": null,
   "metadata": {
    "collapsed": true
   },
   "outputs": [],
   "source": []
  },
  {
   "cell_type": "code",
   "execution_count": null,
   "metadata": {
    "collapsed": true
   },
   "outputs": [],
   "source": []
  },
  {
   "cell_type": "code",
   "execution_count": null,
   "metadata": {
    "collapsed": true
   },
   "outputs": [],
   "source": []
  }
 ],
 "metadata": {
  "kernelspec": {
   "display_name": "Python 2",
   "language": "python",
   "name": "python2"
  },
  "language_info": {
   "codemirror_mode": {
    "name": "ipython",
    "version": 2
   },
   "file_extension": ".py",
   "mimetype": "text/x-python",
   "name": "python",
   "nbconvert_exporter": "python",
   "pygments_lexer": "ipython2",
   "version": "2.7.13"
  }
 },
 "nbformat": 4,
 "nbformat_minor": 2
}
