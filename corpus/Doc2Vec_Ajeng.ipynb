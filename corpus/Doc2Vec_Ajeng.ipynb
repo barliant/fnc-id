{
 "cells": [
  {
   "cell_type": "code",
   "execution_count": 7,
   "metadata": {
    "collapsed": false
   },
   "outputs": [
    {
     "name": "stdout",
     "output_type": "stream",
     "text": [
      "[ 0.02268304 -0.39068457 -1.36646926  0.23953335 -0.24542476  0.15400493\n",
      "  0.63230669  0.19405982  0.76783103 -0.17881358  0.70228219  0.97773862\n",
      "  0.76242626  0.12285542 -0.83152348  0.87072045  0.70629764  0.16694233\n",
      " -0.11236004 -0.42738464 -0.41193244  0.88898307  0.17028546 -0.30687079\n",
      " -0.35308793 -0.33522293 -0.26083153  0.05183244 -0.42411914 -0.18164007\n",
      " -0.64117712 -0.16886243 -0.13101473 -0.84982139 -0.09631358  1.01070893\n",
      "  0.52832919  0.13849065  0.44898549  0.01156576 -0.10226577 -0.23129071\n",
      "  0.60730737 -0.58560485  0.07399192 -0.15212207  0.6748895  -0.57655364\n",
      " -0.14999408  0.19474135 -0.18527158  0.16072273 -0.81814039 -0.6062513\n",
      "  0.13154876 -0.54753208 -0.01924145  1.03354168 -0.00234734 -0.45363837\n",
      " -0.1824417   1.05513525 -1.06186223 -0.25849989  0.19026625  0.44615319\n",
      "  0.2907829  -0.61450881  0.31168002  0.35704562  0.18583773  0.68802267\n",
      "  0.64036691  0.09179179 -0.38157189 -0.1770111  -0.39555427  0.16985892\n",
      "  0.19938511  0.31489119  0.41246334  0.48288572  0.09373077 -0.80432761\n",
      "  0.58955508  0.59941101 -0.78273904 -0.65835929 -0.63726884  0.77195483\n",
      " -0.10160287  0.20177823  0.86423802 -0.59994131 -0.20175861 -1.07972217\n",
      "  0.5338999   0.13701282  0.80776012  0.15460572]\n"
     ]
    }
   ],
   "source": [
    "from gensim import models\n",
    "\n",
    "file_f = open('D:/tugas-akhir/fnc-id/django_project/hoaxdetector/hoax/static/fakta_final.txt').read()\n",
    "file_h = open('D:/tugas-akhir/fnc-id/django_project/hoaxdetector/hoax/static/hoax_final.txt').read()\n",
    "\n",
    "list_f = file_f.split()\n",
    "list_h = file_h.split()\n",
    "\n",
    "sentence = models.doc2vec.LabeledSentence(\n",
    "    words=list_f, tags=[\"SENT_fakta\"])\n",
    "sentence1 = models.doc2vec.LabeledSentence(\n",
    "    words=list_h, tags=[\"SENT_hoax\"])\n",
    "\n",
    "sentences = [sentence, sentence1]\n",
    "token_count = sum([len(sentence) for sentence in sentences])\n",
    "\n",
    "class LabeledLineSentence(object):\n",
    "    def __init__(self, filename):\n",
    "        self.filename = filename\n",
    "    def __iter__(self):\n",
    "        for uid, line in enumerate(open(filename)):\n",
    "            yield LabeledSentence(words=line.split(), labels=['SENT_%s' % uid])\n",
    "            \n",
    "model = models.Doc2Vec(dm=0, alpha=.025, min_alpha=.025, min_count=1)\n",
    "model.build_vocab(sentences)\n",
    "\n",
    "\n",
    "for epoch in range(10):\n",
    "    model.train( sentences, total_examples = token_count, epochs = model.iter)\n",
    "    model.alpha -= 0.002  # decrease the learning rate`\n",
    "    model.min_alpha = model.alpha  # fix the learning rate, no decay\n",
    "   \n",
    "\n",
    "model.save(\"my_model.doc2vec\")\n",
    "model_loaded = models.Doc2Vec.load('my_model.doc2vec')\n",
    "\n",
    "\n",
    "#print(model.docvecs.most_similar([\"SENT_hoax\"])[0][1])\n",
    "#print(model.docvecs.most_similar([\"SENT_fakta\"]))\n",
    "#print(model_loaded.docvecs.most_similar([\"SENT_hoax\"]))\n",
    "print(model.docvecs[\"SENT_hoax\"])\n",
    "\n",
    "#word_vec = model['pesan']\n",
    "#model.docvecs.most_similar([word_vec])\n",
    "#print(\"fakta\")\n",
    "#print(model.docvecs[\"SENT_fakta\"])\n"
   ]
  },
  {
   "cell_type": "code",
   "execution_count": 12,
   "metadata": {
    "collapsed": false
   },
   "outputs": [
    {
     "data": {
      "text/plain": [
       "(2L, 100L)"
      ]
     },
     "execution_count": 12,
     "metadata": {},
     "output_type": "execute_result"
    }
   ],
   "source": [
    "import numpy as np\n",
    "new_mat = np.vstack((model.docvecs[\"SENT_hoax\"], model.docvecs[\"SENT_fakta\"]))\n",
    "np.shape(new_mat)"
   ]
  },
  {
   "cell_type": "code",
   "execution_count": 23,
   "metadata": {
    "collapsed": true
   },
   "outputs": [],
   "source": [
    "from sklearn.preprocessing import StandardScaler\n",
    "x_new = StandardScaler().fit_transform(new_mat)"
   ]
  },
  {
   "cell_type": "code",
   "execution_count": 24,
   "metadata": {
    "collapsed": false
   },
   "outputs": [
    {
     "data": {
      "text/plain": [
       "PCA(copy=True, iterated_power='auto', n_components=2, random_state=None,\n",
       "  svd_solver='auto', tol=0.0, whiten=False)"
      ]
     },
     "execution_count": 24,
     "metadata": {},
     "output_type": "execute_result"
    }
   ],
   "source": [
    "from sklearn.decomposition import PCA\n",
    "pca = PCA(n_components=2)\n",
    "pca.fit(new_mat)"
   ]
  },
  {
   "cell_type": "code",
   "execution_count": 56,
   "metadata": {
    "collapsed": false
   },
   "outputs": [
    {
     "name": "stdout",
     "output_type": "stream",
     "text": [
      "('original shape:   ', (2L, 100L))\n",
      "('transformed shape:', (2L, 2L))\n"
     ]
    },
    {
     "data": {
      "text/plain": [
       "array([[  3.32438585e+00,   8.62442066e-16],\n",
       "       [ -3.32438585e+00,  -8.62442066e-16]])"
      ]
     },
     "execution_count": 56,
     "metadata": {},
     "output_type": "execute_result"
    }
   ],
   "source": [
    "new_pca = pca.transform(new_mat)\n",
    "print(\"original shape:   \", new_mat.shape)\n",
    "print(\"transformed shape:\", new_pca.shape)\n",
    "new_pca"
   ]
  },
  {
   "cell_type": "code",
   "execution_count": 57,
   "metadata": {
    "collapsed": false
   },
   "outputs": [
    {
     "data": {
      "image/png": "[encoded data removed]",
      "text/plain": [
       "<matplotlib.figure.Figure at 0x15dbae10>"
      ]
     },
     "metadata": {},
     "output_type": "display_data"
    }
   ],
   "source": [
    "import matplotlib.pyplot as plt\n",
    "N = 5\n",
    "x = new_pca[0]\n",
    "y = new_pca[1]\n",
    "colors = (0,0,0)\n",
    "area = np.pi*15\n",
    " \n",
    "# Plot\n",
    "plt.scatter(x, y, s=area, c=colors, alpha=0.5)\n",
    "plt.title('Scatter plot pythonspot.com')\n",
    "plt.xlabel('x')\n",
    "plt.ylabel('y')\n",
    "plt.show()"
   ]
  }
 ],
 "metadata": {
  "kernelspec": {
   "display_name": "Python 2",
   "language": "python",
   "name": "python2"
  },
  "language_info": {
   "codemirror_mode": {
    "name": "ipython",
    "version": 2
   },
   "file_extension": ".py",
   "mimetype": "text/x-python",
   "name": "python",
   "nbconvert_exporter": "python",
   "pygments_lexer": "ipython2",
   "version": "2.7.13"
  }
 },
 "nbformat": 4,
 "nbformat_minor": 2
}
