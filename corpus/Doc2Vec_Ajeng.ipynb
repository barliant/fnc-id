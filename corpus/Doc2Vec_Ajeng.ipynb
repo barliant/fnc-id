{
 "cells": [
  {
   "cell_type": "code",
   "execution_count": 69,
   "metadata": {
    "collapsed": false
   },
   "outputs": [
    {
     "name": "stdout",
     "output_type": "stream",
     "text": [
      "[ 0.01896182 -0.25047845 -1.39092791  0.46481359 -0.53272218  0.10240473\n",
      "  0.90694594  0.22021167  0.77287608 -0.45324469  0.77404207  1.14541972\n",
      "  0.78980905 -0.01917335 -0.86842477  0.9939397   0.83157557  0.25214306\n",
      "  0.193737   -0.5815255  -0.62548518  1.04272306 -0.07915713 -0.4304654\n",
      " -0.22243063 -0.48936519 -0.08371028 -0.00985503 -0.5537293  -0.02165492\n",
      " -0.89110988 -0.0056865  -0.3958219  -0.93191075 -0.24546857  1.15999198\n",
      "  0.71873057 -0.01472969  0.68418044 -0.14829805 -0.35111248 -0.22981597\n",
      "  0.81975323 -0.71578431  0.00774738 -0.23844212  0.71652681 -0.76715106\n",
      " -0.09710501  0.23470064 -0.09623706  0.30152789 -0.91514385 -0.81076276\n",
      "  0.24933815 -0.61931956 -0.06924748  1.16104889 -0.03828844 -0.33128202\n",
      " -0.17996764  1.22720993 -1.18097699 -0.10945787  0.26582795  0.64392352\n",
      "  0.299575   -0.69656253  0.28652003  0.30364418  0.1783399   0.6456421\n",
      "  0.80055821  0.22383897 -0.56433845 -0.04656903 -0.45470369  0.01960577\n",
      "  0.26736024  0.27723736  0.44050366  0.36166343  0.08297169 -0.91113573\n",
      "  0.55674136  0.62895525 -0.90722615 -0.7557137  -0.68205255  0.77346772\n",
      " -0.30985335  0.31762296  1.04332209 -0.61771661 -0.08091518 -1.27729535\n",
      "  0.38985503  0.29928654  1.13059258 -0.16947909]\n"
     ]
    }
   ],
   "source": [
    "from gensim import models\n",
    "\n",
    "file_f = open('D:/tugas-akhir/fnc-id/corpus/crossval/fakta_stopstemset3.txt').read()\n",
    "file_h = open('D:/tugas-akhir/fnc-id/corpus/crossval/hoax_stopstemset3.txt').read()\n",
    "\n",
    "list_f = file_f.split()\n",
    "list_h = file_h.split()\n",
    "\n",
    "sentence = models.doc2vec.LabeledSentence(\n",
    "    words=list_f, tags=[\"SENT_fakta\"])\n",
    "sentence1 = models.doc2vec.LabeledSentence(\n",
    "    words=list_h, tags=[\"SENT_hoax\"])\n",
    "\n",
    "sentences = [sentence, sentence1]\n",
    "token_count = sum([len(sentence) for sentence in sentences])\n",
    "\n",
    "class LabeledLineSentence(object):\n",
    "    def __init__(self, filename):\n",
    "        self.filename = filename\n",
    "    def __iter__(self):\n",
    "        for uid, line in enumerate(open(filename)):\n",
    "            yield LabeledSentence(words=line.split(), labels=['SENT_%s' % uid])\n",
    "            \n",
    "model = models.Doc2Vec(dm=0, alpha=.025, min_alpha=.025, min_count=1)\n",
    "model.build_vocab(sentences)\n",
    "\n",
    "\n",
    "for epoch in range(10):\n",
    "    model.train( sentences, total_examples = token_count, epochs = model.iter)\n",
    "    model.alpha -= 0.002  # decrease the learning rate`\n",
    "    model.min_alpha = model.alpha  # fix the learning rate, no decay\n",
    "   \n",
    "\n",
    "model.save(\"my_model.doc2vec\")\n",
    "model_loaded = models.Doc2Vec.load('my_model.doc2vec')\n",
    "\n",
    "\n",
    "#print(model.docvecs.most_similar([\"SENT_hoax\"])[0][1])\n",
    "#print(model.docvecs.most_similar([\"SENT_fakta\"]))\n",
    "#print(model_loaded.docvecs.most_similar([\"SENT_hoax\"]))\n",
    "print(model.docvecs[\"SENT_hoax\"])\n",
    "\n",
    "#word_vec = model['pesan']\n",
    "#model.docvecs.most_similar([word_vec])\n",
    "#print(\"fakta\")\n",
    "#print(model.docvecs[\"SENT_fakta\"])\n"
   ]
  },
  {
   "cell_type": "code",
   "execution_count": 70,
   "metadata": {
    "collapsed": false
   },
   "outputs": [
    {
     "name": "stdout",
     "output_type": "stream",
     "text": [
      "[('SENT_fakta', 0.1411222368478775)]\n"
     ]
    }
   ],
   "source": [
    "print(model.docvecs.most_similar([\"SENT_hoax\"]))"
   ]
  },
  {
   "cell_type": "code",
   "execution_count": 71,
   "metadata": {
    "collapsed": false
   },
   "outputs": [
    {
     "data": {
      "text/plain": [
       "(2L, 100L)"
      ]
     },
     "execution_count": 71,
     "metadata": {},
     "output_type": "execute_result"
    }
   ],
   "source": [
    "import numpy as np\n",
    "new_mat = np.vstack((model.docvecs[\"SENT_hoax\"], model.docvecs[\"SENT_fakta\"]))\n",
    "np.shape(new_mat)"
   ]
  },
  {
   "cell_type": "code",
   "execution_count": 72,
   "metadata": {
    "collapsed": false
   },
   "outputs": [],
   "source": [
    "from sklearn.preprocessing import StandardScaler\n",
    "x_new = StandardScaler().fit_transform(new_mat)\n"
   ]
  },
  {
   "cell_type": "code",
   "execution_count": 73,
   "metadata": {
    "collapsed": false
   },
   "outputs": [
    {
     "data": {
      "text/plain": [
       "PCA(copy=True, iterated_power='auto', n_components=2, random_state=None,\n",
       "  svd_solver='auto', tol=0.0, whiten=False)"
      ]
     },
     "execution_count": 73,
     "metadata": {},
     "output_type": "execute_result"
    }
   ],
   "source": [
    "from sklearn.decomposition import PCA\n",
    "pca = PCA(n_components=2)\n",
    "pca.fit(x_new)"
   ]
  },
  {
   "cell_type": "code",
   "execution_count": 74,
   "metadata": {
    "collapsed": false,
    "scrolled": true
   },
   "outputs": [
    {
     "name": "stdout",
     "output_type": "stream",
     "text": [
      "('original shape:   ', (2L, 100L))\n",
      "('transformed shape:', (2L, 2L))\n"
     ]
    },
    {
     "data": {
      "text/plain": [
       "array([[  1.00000000e+01,   5.06300372e-17],\n",
       "       [ -1.00000000e+01,  -5.06300372e-17]])"
      ]
     },
     "execution_count": 74,
     "metadata": {},
     "output_type": "execute_result"
    }
   ],
   "source": [
    "new_pca = pca.transform(x_new)\n",
    "print(\"original shape:   \", new_mat.shape)\n",
    "print(\"transformed shape:\", new_pca.shape)\n",
    "\n",
    "x = np.stack((new_pca[0][0], new_pca[1][0]))\n",
    "y = np.stack((new_pca[0][1], new_pca[1][1]))\n",
    "\n",
    "new_pca"
   ]
  },
  {
   "cell_type": "code",
   "execution_count": 75,
   "metadata": {
    "collapsed": false
   },
   "outputs": [
    {
     "data": {
      "image/png": "[encoded data removed]",
      "text/plain": [
       "<matplotlib.figure.Figure at 0x141456d8>"
      ]
     },
     "metadata": {},
     "output_type": "display_data"
    }
   ],
   "source": [
    "import matplotlib.pyplot as plt\n",
    "N = 5\n",
    "x = x\n",
    "y = y\n",
    "colors = (0,0,0)\n",
    "area = np.pi*15\n",
    " \n",
    "# Plot\n",
    "plt.scatter(x, y, s=area, c=colors, alpha=0.5)\n",
    "plt.title('Set 3 :  Stopword Removal + Stemming')\n",
    "plt.xlabel('x')\n",
    "plt.ylabel('y')\n",
    "plt.show()"
   ]
  },
  {
   "cell_type": "code",
   "execution_count": null,
   "metadata": {
    "collapsed": true
   },
   "outputs": [],
   "source": []
  }
 ],
 "metadata": {
  "kernelspec": {
   "display_name": "Python 2",
   "language": "python",
   "name": "python2"
  },
  "language_info": {
   "codemirror_mode": {
    "name": "ipython",
    "version": 2
   },
   "file_extension": ".py",
   "mimetype": "text/x-python",
   "name": "python",
   "nbconvert_exporter": "python",
   "pygments_lexer": "ipython2",
   "version": "2.7.13"
  }
 },
 "nbformat": 4,
 "nbformat_minor": 2
}
