{
 "cells": [
  {
   "cell_type": "code",
   "execution_count": 1,
   "metadata": {
    "collapsed": false
   },
   "outputs": [
    {
     "name": "stderr",
     "output_type": "stream",
     "text": [
      "C:\\Users\\Ajeng\\Anaconda2\\lib\\site-packages\\gensim-2.0.0-py2.7-win-amd64.egg\\gensim\\utils.py:860: UserWarning: detected Windows; aliasing chunkize to chunkize_serial\n",
      "  warnings.warn(\"detected Windows; aliasing chunkize to chunkize_serial\")\n"
     ]
    },
    {
     "name": "stdout",
     "output_type": "stream",
     "text": [
      "[ 0.01577158 -0.33403736 -0.74644154 -0.05018593 -0.29500923  0.10051078\n",
      "  0.59066093  0.15999183  0.60500681 -0.27592629  0.5865199   0.85014433\n",
      "  0.64447063 -0.01910199 -0.70880985  0.81311417  0.6711719   0.20234178\n",
      "  0.14917235 -0.46753821 -0.47410557  0.82025355 -0.02705028 -0.32966086\n",
      " -0.18507069 -0.39205042 -0.07406677 -0.00585387 -0.44559646 -0.02353149\n",
      " -0.71554071 -0.01059906 -0.35512319 -0.77378678 -0.21844511  0.96850908\n",
      "  0.61363465 -0.03183681  0.59124303 -0.14200468 -0.31687638 -0.18800615\n",
      "  0.69615901 -0.601439    0.00977205 -0.18855964  0.57788217 -0.61103529\n",
      " -0.08935108  0.18029065 -0.09630859  0.21262227 -0.71580756 -0.60509038\n",
      "  0.17278685 -0.48288006 -0.03802231  0.88890225 -0.01812067 -0.30979604\n",
      " -0.14569169  0.92810553 -0.90907478 -0.13967089  0.20922379  0.50536066\n",
      "  0.24322703 -0.55951679  0.23453188  0.24891908  0.14586844  0.52829838\n",
      "  0.65181625  0.18107687 -0.45864609 -0.03988267 -0.37037107  0.01921043\n",
      "  0.21706629  0.22742169  0.36084199  0.29469028  0.06778222 -0.74694151\n",
      "  0.45556092  0.51539272 -0.74414194 -0.61984831 -0.56023711  0.63366586\n",
      " -0.26073515  0.2640183   0.86086786 -0.506495   -0.06202178 -1.05302763\n",
      "  0.38840961  0.15208268  0.72994077  0.0383995 ]\n"
     ]
    }
   ],
   "source": [
    "from gensim import models\n",
    "\n",
    "file_f = open('D:/tugas-akhir/fnc-id/django_project/hoaxdetector/hoax/static/fakta_final.txt').read()\n",
    "file_h = open('D:/tugas-akhir/fnc-id/django_project/hoaxdetector/hoax/static/hoax_final.txt').read()\n",
    "\n",
    "list_f = file_f.split()\n",
    "list_h = file_h.split()\n",
    "\n",
    "sentence = models.doc2vec.LabeledSentence(\n",
    "    words=list_f, tags=[\"SENT_fakta\"])\n",
    "sentence1 = models.doc2vec.LabeledSentence(\n",
    "    words=list_h, tags=[\"SENT_hoax\"])\n",
    "\n",
    "sentences = [sentence, sentence1]\n",
    "token_count = sum([len(sentence) for sentence in sentences])\n",
    "\n",
    "class LabeledLineSentence(object):\n",
    "    def __init__(self, filename):\n",
    "        self.filename = filename\n",
    "    def __iter__(self):\n",
    "        for uid, line in enumerate(open(filename)):\n",
    "            yield LabeledSentence(words=line.split(), labels=['SENT_%s' % uid])\n",
    "            \n",
    "model = models.Doc2Vec(dm=0, alpha=.025, min_alpha=.025, min_count=1)\n",
    "model.build_vocab(sentences)\n",
    "\n",
    "\n",
    "for epoch in range(10):\n",
    "    model.train( sentences, total_examples = token_count, epochs = model.iter)\n",
    "    model.alpha -= 0.002  # decrease the learning rate`\n",
    "    model.min_alpha = model.alpha  # fix the learning rate, no decay\n",
    "   \n",
    "\n",
    "model.save(\"my_model.doc2vec\")\n",
    "model_loaded = models.Doc2Vec.load('my_model.doc2vec')\n",
    "\n",
    "\n",
    "#print(model.docvecs.most_similar([\"SENT_hoax\"])[0][1])\n",
    "#print(model.docvecs.most_similar([\"SENT_fakta\"]))\n",
    "#print(model_loaded.docvecs.most_similar([\"SENT_hoax\"]))\n",
    "print(model.docvecs[\"SENT_hoax\"])\n",
    "\n",
    "#word_vec = model['pesan']\n",
    "#model.docvecs.most_similar([word_vec])\n",
    "#print(\"fakta\")\n",
    "#print(model.docvecs[\"SENT_fakta\"])\n"
   ]
  },
  {
   "cell_type": "code",
   "execution_count": 2,
   "metadata": {
    "collapsed": false
   },
   "outputs": [
    {
     "data": {
      "text/plain": [
       "(2L, 100L)"
      ]
     },
     "execution_count": 2,
     "metadata": {},
     "output_type": "execute_result"
    }
   ],
   "source": [
    "import numpy as np\n",
    "new_mat = np.vstack((model.docvecs[\"SENT_hoax\"], model.docvecs[\"SENT_fakta\"]))\n",
    "np.shape(new_mat)"
   ]
  },
  {
   "cell_type": "code",
   "execution_count": 3,
   "metadata": {
    "collapsed": false
   },
   "outputs": [],
   "source": [
    "from sklearn.preprocessing import StandardScaler\n",
    "x_new = StandardScaler().fit_transform(new_mat)\n"
   ]
  },
  {
   "cell_type": "code",
   "execution_count": 4,
   "metadata": {
    "collapsed": false
   },
   "outputs": [
    {
     "data": {
      "text/plain": [
       "PCA(copy=True, iterated_power='auto', n_components=2, random_state=None,\n",
       "  svd_solver='auto', tol=0.0, whiten=False)"
      ]
     },
     "execution_count": 4,
     "metadata": {},
     "output_type": "execute_result"
    }
   ],
   "source": [
    "from sklearn.decomposition import PCA\n",
    "pca = PCA(n_components=2)\n",
    "pca.fit(x_new)"
   ]
  },
  {
   "cell_type": "code",
   "execution_count": 19,
   "metadata": {
    "collapsed": false,
    "scrolled": true
   },
   "outputs": [
    {
     "name": "stdout",
     "output_type": "stream",
     "text": [
      "('original shape:   ', (2L, 100L))\n",
      "('transformed shape:', (2L, 2L))\n"
     ]
    },
    {
     "data": {
      "text/plain": [
       "array([  7.44714579e-15,  -7.44714579e-15])"
      ]
     },
     "execution_count": 19,
     "metadata": {},
     "output_type": "execute_result"
    }
   ],
   "source": [
    "new_pca = pca.transform(x_new)\n",
    "print(\"original shape:   \", new_mat.shape)\n",
    "print(\"transformed shape:\", new_pca.shape)\n",
    "\n",
    "x = np.stack((new_pca[0][0], new_pca[1][0]))\n",
    "y = np.stack((new_pca[0][1], new_pca[1][1]))\n",
    "x\n",
    "y"
   ]
  },
  {
   "cell_type": "code",
   "execution_count": 17,
   "metadata": {
    "collapsed": false
   },
   "outputs": [
    {
     "data": {
      "image/png": "[encoded data removed]",
      "text/plain": [
       "<matplotlib.figure.Figure at 0x142e2eb8>"
      ]
     },
     "metadata": {},
     "output_type": "display_data"
    }
   ],
   "source": [
    "import matplotlib.pyplot as plt\n",
    "N = 5\n",
    "x = x\n",
    "y = y\n",
    "colors = (0,0,0)\n",
    "area = np.pi*15\n",
    " \n",
    "# Plot\n",
    "plt.scatter(x, y, s=area, c=colors, alpha=0.5)\n",
    "plt.title('Scatter plot pythonspot.com')\n",
    "plt.xlabel('x')\n",
    "plt.ylabel('y')\n",
    "plt.show()"
   ]
  },
  {
   "cell_type": "code",
   "execution_count": null,
   "metadata": {
    "collapsed": true
   },
   "outputs": [],
   "source": []
  }
 ],
 "metadata": {
  "kernelspec": {
   "display_name": "Python 2",
   "language": "python",
   "name": "python2"
  },
  "language_info": {
   "codemirror_mode": {
    "name": "ipython",
    "version": 2
   },
   "file_extension": ".py",
   "mimetype": "text/x-python",
   "name": "python",
   "nbconvert_exporter": "python",
   "pygments_lexer": "ipython2",
   "version": "2.7.13"
  }
 },
 "nbformat": 4,
 "nbformat_minor": 2
}
