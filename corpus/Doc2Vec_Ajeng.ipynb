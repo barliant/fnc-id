{
 "cells": [
  {
   "cell_type": "code",
   "execution_count": 2,
   "metadata": {
    "collapsed": false
   },
   "outputs": [
    {
     "name": "stderr",
     "output_type": "stream",
     "text": [
      "C:\\Users\\Ajeng\\Anaconda2\\lib\\site-packages\\gensim-2.0.0-py2.7-win-amd64.egg\\gensim\\utils.py:860: UserWarning: detected Windows; aliasing chunkize to chunkize_serial\n",
      "  warnings.warn(\"detected Windows; aliasing chunkize to chunkize_serial\")\n"
     ]
    },
    {
     "name": "stdout",
     "output_type": "stream",
     "text": [
      "[ 0.01523711 -0.40205851 -0.46198496 -0.32443777  0.16722381  0.15315838\n",
      "  0.08746828  0.09156697  0.45953196  0.25941119  0.33034101  0.36884776\n",
      "  0.47349748  0.23991725 -0.50860912  0.43801695  0.33455369  0.0175426\n",
      " -0.41428712 -0.11569469 -0.00674956  0.39745039  0.42365643 -0.04921221\n",
      " -0.39883873 -0.02848996 -0.3959851   0.11204337 -0.11656392 -0.32274681\n",
      " -0.10802058 -0.31831875  0.25080645 -0.46042556  0.12623976  0.48157156\n",
      "  0.12285204  0.27920583  0.01520913  0.2020705   0.20901591 -0.15821452\n",
      "  0.17356248 -0.25086224  0.14942589  0.03131629  0.38010907 -0.08895073\n",
      " -0.17785747  0.0675818  -0.25531399 -0.10636146 -0.39047581 -0.09004172\n",
      " -0.09102983 -0.25091884  0.0625947   0.48491672  0.05255491 -0.48121735\n",
      " -0.12322745  0.43204463 -0.51613557 -0.39378548  0.03069353  0.04597603\n",
      "  0.18201649 -0.30438042  0.24316128  0.31662333  0.13337126  0.51639277\n",
      "  0.17428379 -0.14163962  0.02954982 -0.31516662 -0.16843     0.34063727\n",
      "  0.02666695  0.26355788  0.22736081  0.50486338  0.07821421 -0.36256951\n",
      "  0.43687421  0.35129428 -0.33199671 -0.29000801 -0.35420838  0.50667429\n",
      "  0.23966576 -0.03762266  0.30583277 -0.36934251 -0.31108895 -0.42081743\n",
      "  0.50001621 -0.06677081  0.22700393  0.42125681]\n"
     ]
    }
   ],
   "source": [
    "from gensim import models\n",
    "\n",
    "file_f = open('D:/tugas-akhir/fnc-id/django_project/hoaxdetector/hoax/static/fakta_final.txt').read()\n",
    "file_h = open('D:/tugas-akhir/fnc-id/django_project/hoaxdetector/hoax/static/hoax_final.txt').read()\n",
    "\n",
    "list_f = file_f.split()\n",
    "list_h = file_h.split()\n",
    "\n",
    "sentence = models.doc2vec.LabeledSentence(\n",
    "    words=list_f, tags=[\"SENT_fakta\"])\n",
    "sentence1 = models.doc2vec.LabeledSentence(\n",
    "    words=list_h, tags=[\"SENT_hoax\"])\n",
    "\n",
    "sentences = [sentence, sentence1]\n",
    "token_count = sum([len(sentence) for sentence in sentences])\n",
    "\n",
    "class LabeledLineSentence(object):\n",
    "    def __init__(self, filename):\n",
    "        self.filename = filename\n",
    "    def __iter__(self):\n",
    "        for uid, line in enumerate(open(filename)):\n",
    "            yield LabeledSentence(words=line.split(), labels=['SENT_%s' % uid])\n",
    "            \n",
    "model = models.Doc2Vec(dm=0, alpha=.025, min_alpha=.025, min_count=1)\n",
    "model.build_vocab(sentences)\n",
    "\n",
    "\n",
    "for epoch in range(10):\n",
    "    model.train( sentences, total_examples = token_count, epochs = model.iter)\n",
    "    model.alpha -= 0.002  # decrease the learning rate`\n",
    "    model.min_alpha = model.alpha  # fix the learning rate, no decay\n",
    "   \n",
    "\n",
    "model.save(\"my_model.doc2vec\")\n",
    "model_loaded = models.Doc2Vec.load('my_model.doc2vec')\n",
    "\n",
    "\n",
    "#print(model.docvecs.most_similar([\"SENT_hoax\"])[0][1])\n",
    "#print(model.docvecs.most_similar([\"SENT_fakta\"]))\n",
    "#print(model_loaded.docvecs.most_similar([\"SENT_hoax\"]))\n",
    "print(model.docvecs[\"SENT_hoax\"])\n",
    "\n",
    "#word_vec = model['pesan']\n",
    "#model.docvecs.most_similar([word_vec])\n",
    "#print(\"fakta\")\n",
    "#print(model.docvecs[\"SENT_fakta\"])\n"
   ]
  },
  {
   "cell_type": "code",
   "execution_count": 3,
   "metadata": {
    "collapsed": false
   },
   "outputs": [
    {
     "data": {
      "text/plain": [
       "(2L, 100L)"
      ]
     },
     "execution_count": 3,
     "metadata": {},
     "output_type": "execute_result"
    }
   ],
   "source": [
    "import numpy as np\n",
    "new_mat = np.vstack((model.docvecs[\"SENT_hoax\"], model.docvecs[\"SENT_fakta\"]))\n",
    "np.shape(new_mat)"
   ]
  },
  {
   "cell_type": "code",
   "execution_count": 10,
   "metadata": {
    "collapsed": false
   },
   "outputs": [
    {
     "data": {
      "text/plain": [
       "(2L, 100L)"
      ]
     },
     "execution_count": 10,
     "metadata": {},
     "output_type": "execute_result"
    }
   ],
   "source": [
    "from sklearn.preprocessing import StandardScaler\n",
    "x_new = StandardScaler().fit_transform(new_mat)\n"
   ]
  },
  {
   "cell_type": "code",
   "execution_count": 15,
   "metadata": {
    "collapsed": false
   },
   "outputs": [
    {
     "data": {
      "text/plain": [
       "PCA(copy=True, iterated_power='auto', n_components=2, random_state=None,\n",
       "  svd_solver='auto', tol=0.0, whiten=False)"
      ]
     },
     "execution_count": 15,
     "metadata": {},
     "output_type": "execute_result"
    }
   ],
   "source": [
    "from sklearn.decomposition import PCA\n",
    "pca = PCA(n_components=2)\n",
    "pca.fit(x_new)"
   ]
  },
  {
   "cell_type": "code",
   "execution_count": 16,
   "metadata": {
    "collapsed": false
   },
   "outputs": [
    {
     "name": "stdout",
     "output_type": "stream",
     "text": [
      "('original shape:   ', (2L, 100L))\n",
      "('transformed shape:', (2L, 2L))\n"
     ]
    },
    {
     "data": {
      "text/plain": [
       "array([[ -1.00000001e+01,   1.68090464e-15],\n",
       "       [  1.00000001e+01,  -1.68090464e-15]])"
      ]
     },
     "execution_count": 16,
     "metadata": {},
     "output_type": "execute_result"
    }
   ],
   "source": [
    "new_pca = pca.transform(x_new)\n",
    "print(\"original shape:   \", new_mat.shape)\n",
    "print(\"transformed shape:\", new_pca.shape)\n",
    "new_pca"
   ]
  },
  {
   "cell_type": "code",
   "execution_count": 7,
   "metadata": {
    "collapsed": false
   },
   "outputs": [
    {
     "data": {
      "image/png": "[encoded data removed]",
      "text/plain": [
       "<matplotlib.figure.Figure at 0x10eb9dd8>"
      ]
     },
     "metadata": {},
     "output_type": "display_data"
    }
   ],
   "source": [
    "import matplotlib.pyplot as plt\n",
    "N = 5\n",
    "x = new_pca[0]\n",
    "y = new_pca[1]\n",
    "colors = (0,0,0)\n",
    "area = np.pi*15\n",
    " \n",
    "# Plot\n",
    "plt.scatter(x, y, s=area, c=colors, alpha=0.5)\n",
    "plt.title('Scatter plot pythonspot.com')\n",
    "plt.xlabel('x')\n",
    "plt.ylabel('y')\n",
    "plt.show()"
   ]
  }
 ],
 "metadata": {
  "kernelspec": {
   "display_name": "Python 2",
   "language": "python",
   "name": "python2"
  },
  "language_info": {
   "codemirror_mode": {
    "name": "ipython",
    "version": 2
   },
   "file_extension": ".py",
   "mimetype": "text/x-python",
   "name": "python",
   "nbconvert_exporter": "python",
   "pygments_lexer": "ipython2",
   "version": "2.7.13"
  }
 },
 "nbformat": 4,
 "nbformat_minor": 2
}
