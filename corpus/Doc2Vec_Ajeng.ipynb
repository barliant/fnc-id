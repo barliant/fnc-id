{
 "cells": [
  {
   "cell_type": "code",
   "execution_count": 89,
   "metadata": {},
   "outputs": [
    {
     "name": "stdout",
     "output_type": "stream",
     "text": [
      "[('SENT_fakta', 0.13616332411766052)]\n",
      "[('SENT_hoax', 0.13616332411766052)]\n"
     ]
    }
   ],
   "source": [
    "from gensim import models\n",
    "\n",
    "file_f = open('/home/adhanindita/tugas-akhir/fnc-id/django_project/hoaxdetector/hoax/static/fakta_final.txt').read()\n",
    "file_h = open('/home/adhanindita/tugas-akhir/fnc-id/django_project/hoaxdetector/hoax/static/hoax_final.txt').read()\n",
    "\n",
    "list_f = file_f.split()\n",
    "list_h = file_h.split()\n",
    "\n",
    "sentence = models.doc2vec.LabeledSentence(\n",
    "    words=list_f, tags=[\"SENT_fakta\"])\n",
    "sentence1 = models.doc2vec.LabeledSentence(\n",
    "    words=list_h, tags=[\"SENT_hoax\"])\n",
    "\n",
    "sentences = [sentence, sentence1]\n",
    "token_count = sum([len(sentence) for sentence in sentences])\n",
    "\n",
    "class LabeledLineSentence(object):\n",
    "    def __init__(self, filename):\n",
    "        self.filename = filename\n",
    "    def __iter__(self):\n",
    "        for uid, line in enumerate(open(filename)):\n",
    "            yield LabeledSentence(words=line.split(), labels=['SENT_%s' % uid])\n",
    "            \n",
    "model = models.Doc2Vec(dm=0, alpha=.025, min_alpha=.025, min_count=1)\n",
    "model.build_vocab(sentences)\n",
    "\n",
    "for epoch in range(10):\n",
    "    model.train(sentences, total_examples = token_count, epochs = model.iter)\n",
    "    model.alpha -= 0.002  # decrease the learning rate`\n",
    "    model.min_alpha = model.alpha  # fix the learning rate, no decay\n",
    "\n",
    "model.save(\"my_model.doc2vec\")\n",
    "model_loaded = models.Doc2Vec.load('my_model.doc2vec')\n",
    "\n",
    "print(model.docvecs.most_similar([\"SENT_hoax\"]))\n",
    "print(model.docvecs.most_similar([\"SENT_fakta\"]))\n",
    "#print(model_loaded.docvecs.most_similar([\"SENT_hoax\"]))\n",
    "#print(model.docvecs[\"SENT_hoax\"])\n",
    "\n",
    "#word_vec = model['pesan']\n",
    "#model.docvecs.most_similar([word_vec])\n",
    "\n",
    "#print(model.docvecs[\"SENT_fakta\"])\n"
   ]
  },
  {
   "cell_type": "code",
   "execution_count": 90,
   "metadata": {},
   "outputs": [
    {
     "name": "stdout",
     "output_type": "stream",
     "text": [
      "[0.13616332094025124]\n"
     ]
    },
    {
     "data": {
      "text/plain": [
       "0.13616332094025124"
      ]
     },
     "execution_count": 90,
     "metadata": {},
     "output_type": "execute_result"
    }
   ],
   "source": [
    "cosine_similarities = []\n",
    "for r in range(2):\n",
    "    for t in range(r+1, 2):\n",
    "        cosine_similarities.append(model.docvecs.similarity(r,t))\n",
    "        print(cosine_similarities)\n",
    "min(cosine_similarities)"
   ]
  },
  {
   "cell_type": "code",
   "execution_count": 91,
   "metadata": {},
   "outputs": [
    {
     "data": {
      "image/png": "[encoded data removed]",
      "text/plain": [
       "<matplotlib.figure.Figure at 0x7f345605aa20>"
      ]
     },
     "metadata": {},
     "output_type": "display_data"
    }
   ],
   "source": [
    "import matplotlib.pyplot as plt\n",
    "plt.hist(cosine_similarities, 50, facecolor='green', alpha=0.5)\n",
    "plt.title('Distribution of Cosine Similarities')\n",
    "plt.ylabel('Frequency')\n",
    "plt.xlabel('Cosine Similarity')\n",
    "plt.show()\n",
    "plt.savefig('similarities_hist.png')\n"
   ]
  },
  {
   "cell_type": "code",
   "execution_count": null,
   "metadata": {
    "collapsed": true
   },
   "outputs": [],
   "source": []
  }
 ],
 "metadata": {
  "kernelspec": {
   "display_name": "Python 3",
   "language": "python",
   "name": "python3"
  },
  "language_info": {
   "codemirror_mode": {
    "name": "ipython",
    "version": 3
   },
   "file_extension": ".py",
   "mimetype": "text/x-python",
   "name": "python",
   "nbconvert_exporter": "python",
   "pygments_lexer": "ipython3",
   "version": "3.6.3"
  }
 },
 "nbformat": 4,
 "nbformat_minor": 2
}
